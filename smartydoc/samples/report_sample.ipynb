{
 "cells": [
  {
   "cell_type": "code",
   "execution_count": 1,
   "metadata": {},
   "outputs": [],
   "source": [
    "import os\n",
    "\n",
    "# for rendering\n",
    "from IPython.core.display import HTML, Markdown\n",
    "\n",
    "# for data analysis\n",
    "import numpy as np\n",
    "import datetime\n",
    "\n",
    "# for plotting\n",
    "import plotly.graph_objects as go\n",
    "import svgutils.compose as sc\n",
    "\n",
    "# figure/table number counter\n",
    "from smartydoc.decorator import FigCounter\n",
    "\n",
    "# for long table\n",
    "import smartydoc.matplot as sdplot"
   ]
  },
  {
   "cell_type": "code",
   "execution_count": 2,
   "metadata": {},
   "outputs": [],
   "source": [
    "# var for iteration\n",
    "# this ID must be an unique index of a student / school,\n",
    "# you can fetch ALL needed data used in this notebook with this ID. \n",
    "#iter_id = os.getenv('ITERID')\n",
    "iter_id = 'sample12345'\n",
    "\n",
    "# helper var for development\n",
    "# if False, only display image embeded in the notebook,\n",
    "# if True, the code would save the image as a SVG file for final report.\n",
    "PRODUCTION_PHASE = True\n",
    "\n",
    "# figure/table counter\n",
    "fig_counter = FigCounter('图', font_size=15, font_family='SimHei')\n",
    "tbl_counter = FigCounter('表', font_size=15, font_family='SimHei')\n"
   ]
  },
  {
   "cell_type": "code",
   "execution_count": 3,
   "metadata": {},
   "outputs": [],
   "source": [
    "# image dir config\n",
    "material_dir = os.path.join(os.path.curdir, 'imgs', 'common')\n",
    "img_dir = os.path.join(os.path.curdir, 'imgs', iter_id)\n",
    "if not os.path.exists(img_dir):\n",
    "    os.makedirs(img_dir, mode=0o755)\n",
    "\n",
    "# helpers for image display\n",
    "def display_image(img_file, cls='medium'):\n",
    "    \"\"\"\n",
    "    img_file: a image file path\n",
    "    cls: small, medium, large, sign, or qrcode\n",
    "    \"\"\"\n",
    "    # os.path.relpath(path) -> 返回path的相对路径，保证文件整体移动后仍可以找到图片\n",
    "    if cls:\n",
    "        html_str = '<div class=\"%s\"><img src=\"%s\" alt=\"image\"></div>\\n'%(cls, os.path.relpath(img_file))\n",
    "    else: \n",
    "        html_str = '<div class=\"medium\"><img src=\"%s\" alt=\"image\"></div>\\n'%(os.path.relpath(img_file))\n",
    "    display(HTML(html_str))"
   ]
  },
  {
   "cell_type": "code",
   "execution_count": 4,
   "metadata": {},
   "outputs": [],
   "source": [
    "# helper for cover generation\n",
    "# XXX: add more info\n",
    "def gen_cover(cover_cfg):\n",
    "    html_content = []\n",
    "    if 'main_cn' in cover_cfg:\n",
    "        html_content.append('<h1 id=\"cover\">%s</h1>'%(cover_cfg['main_cn']))\n",
    "    if 'school' in cover_cfg:\n",
    "        html_content.append('<school>%s</school>'%(cover_cfg['school']))\n",
    "    if 'stu_name' in cover_cfg:\n",
    "        html_content.append('<stuname>%s</stuname>'%(cover_cfg['stu_name']))\n",
    "    if 'stu_class' in cover_cfg:\n",
    "        html_content.append('<stuclass>%s</stuclass>'%(cover_cfg['stu_class']))\n",
    "    if 'company' in cover_cfg:\n",
    "        html_content.append('<address>%s</address>'%(cover_cfg['company']))\n",
    "    if 'test_date' in cover_cfg:\n",
    "        html_content.append('<testdate>%s</testdate>'%(cover_cfg['test_date']))\n",
    "\n",
    "    display(HTML('\\n'.join(html_content)))"
   ]
  },
  {
   "cell_type": "code",
   "execution_count": 5,
   "metadata": {},
   "outputs": [
    {
     "data": {
      "text/html": [
       "<h1 id=\"cover\">使用Jupyter Notebook<br>撰写数据分析报告</h1>\n",
       "<address>SmartyDoc项目组</address>\n",
       "<testdate>2020年2月</testdate>"
      ],
      "text/plain": [
       "<IPython.core.display.HTML object>"
      ]
     },
     "metadata": {},
     "output_type": "display_data"
    }
   ],
   "source": [
    "# cover config\n",
    "today = datetime.datetime.today()\n",
    "cover_cfg = {'main_cn': '使用Jupyter Notebook<br>撰写数据分析报告',\n",
    "             'company': 'SmartyDoc项目组',\n",
    "             'test_date': str(today.year)+'年'+str(today.month)+'月',\n",
    "            }\n",
    "gen_cover(cover_cfg)"
   ]
  },
  {
   "cell_type": "markdown",
   "metadata": {},
   "source": [
    "## 前言"
   ]
  },
  {
   "cell_type": "markdown",
   "metadata": {},
   "source": [
    "> Jupyter Notebook是基于网页的用于交互计算的应用程序，其可被应用于全过程计算：开发、文档编写、运行代码和展示结果。\n",
    ">\n",
    "> <rightalign> — Jupyter Notebook 官方介绍 </rightalign>"
   ]
  },
  {
   "cell_type": "code",
   "execution_count": 6,
   "metadata": {},
   "outputs": [
    {
     "data": {
      "text/html": [
       "<div class=\"medium\"><img src=\"imgs/common/jupyter_home.png\" alt=\"image\"></div>\n"
      ],
      "text/plain": [
       "<IPython.core.display.HTML object>"
      ]
     },
     "metadata": {},
     "output_type": "display_data"
    }
   ],
   "source": [
    "display_image(os.path.join(material_dir, 'jupyter_home.png'))"
   ]
  },
  {
   "cell_type": "markdown",
   "metadata": {},
   "source": [
    "简而言之，Jupyter Notebook是以网页的形式存储，可以在网页页面中直接编写和运行代码，代码的运行结果也会直接在代码块下显示。如在编程过程中需要编写说明文档，可在同一个页面中直接编写，便于作及时的说明和解释。\n",
    "\n",
    "基于Jupyter Notebook具备富文档和标准化的特性，我们也希望可以利用它生成美观的数据分析报告。**SmartyDoc**就是为此而生。利用**SmartyDoc**提供的文本标准化流程，我们可以将包含图文的Jupyter Notebook文件转存为具备特定层级结构的html文件，配合适当的css文件以及**weasyprint**工具，即可产生PDF格式的报告文档。\n",
    "\n",
    "要顺利使用**SmartyDoc**完成报告，要求使用者掌握Python和MarkDown两种语言。\n",
    "\n",
    "下面将具体介绍如何利用这套工具撰写报告文档。"
   ]
  },
  {
   "cell_type": "markdown",
   "metadata": {},
   "source": [
    "## 规划报告的逻辑结构"
   ]
  },
  {
   "cell_type": "markdown",
   "metadata": {},
   "source": [
    "在撰写数据分析报告时，把报告的逻辑结构规划好，将报告内容划分为几个相对独立、且逻辑连贯的章节，会让后续工作更加顺利。如整篇报告可以包含几大**章**，每**章**可以包含多个**小节**，每个**小节**可以进一步划分为多个**子节**。"
   ]
  },
  {
   "cell_type": "markdown",
   "metadata": {},
   "source": [
    "在**SmartyDoc**的框架内，文档的层级结构基于MarkDown语言中的*Heading*实现，即报告的题目为一级标题，用 `# 报告题目` 这种形式实现，各个章节的标题为二级标题，用 `## 章节标题` 的形式实现，以下可以继续出现三级、四级...等不同等级的章节。\n",
    "\n",
    "在撰写报告时，报告题目的样式以一段程序自动生成，用户只需提供报告封面的内容即可，具体可以参考此ipynb文件的*Cell 4*和*Cell 5*中的内容。需要用户自己写的报告章节结构，以二级标题为最高层级。\n",
    "\n",
    "在每个章节下，可以出现文字、表格和图片等信息。为了保证用MarkDown语言撰写的报告内容可以正常显示，需要将对应*Cell*的语言设置为`MarkDown`。"
   ]
  },
  {
   "cell_type": "markdown",
   "metadata": {},
   "source": [
    "### 显示Python程序中输出的文本"
   ]
  },
  {
   "cell_type": "markdown",
   "metadata": {},
   "source": [
    "在进行数据分析时，我们经常需要根据分析结果打印对应的数据和结果描述，因此需要保证Python程序中打印的文字也能够正常显示在报告正文中。在**SmartyDoc**的框架下，我们可以使用如下方式显示Python程序中输出的文本。"
   ]
  },
  {
   "cell_type": "code",
   "execution_count": 7,
   "metadata": {},
   "outputs": [
    {
     "data": {
      "text/markdown": [
       "打印Python程序中的输出文本 ... 变量的数值是 78。"
      ],
      "text/plain": [
       "<IPython.core.display.Markdown object>"
      ]
     },
     "metadata": {},
     "output_type": "display_data"
    }
   ],
   "source": [
    "some_score = 78\n",
    "display(Markdown('打印Python程序中的输出文本 ... 变量的数值是 %s。'%(some_score)))"
   ]
  },
  {
   "cell_type": "markdown",
   "metadata": {},
   "source": [
    "### 使用toc2插件管理文档目录"
   ]
  },
  {
   "cell_type": "markdown",
   "metadata": {},
   "source": [
    "Jupyter Notebook是一个很棒的教学、探索和编程环境，但其功能仍存在很多不足。幸好，它允许我们使用一些插件来扩展它的功能。其中有一个插件叫Table of Contents (2) (toc2)，可以为Jupyter Notebook提供目录。可以在Jupyter的Nbextensions扩展管理页内，通过勾选框启用扩展。\n",
    "\n",
    "点击按钮栏最后部的图标，目录列表会以左侧边栏的形式显示，toc2的使用效果见下图。\n"
   ]
  },
  {
   "cell_type": "code",
   "execution_count": 8,
   "metadata": {},
   "outputs": [
    {
     "data": {
      "text/html": [
       "<div class=\"medium\"><img src=\"imgs/common/jupyter_toc2.png\" alt=\"image\"></div>\n"
      ],
      "text/plain": [
       "<IPython.core.display.HTML object>"
      ]
     },
     "metadata": {},
     "output_type": "display_data"
    }
   ],
   "source": [
    "display_image(os.path.join(material_dir, 'jupyter_toc2.png'))"
   ]
  },
  {
   "cell_type": "markdown",
   "metadata": {},
   "source": [
    "为了与**SmartyDoc**的框架兼容，需要对toc2扩展进行一些设置，可以通过点击目录列表上部的`齿轮图标`进行设置(如下图)，并将`h1`级标题排除出目录范畴（在**SmartyDoc**的框架下，章节结构以二级标题为最高层级）。"
   ]
  },
  {
   "cell_type": "code",
   "execution_count": 9,
   "metadata": {},
   "outputs": [
    {
     "data": {
      "text/html": [
       "<div class=\"medium\"><img src=\"imgs/common/jupyter_toc2_config.png\" alt=\"image\"></div>\n"
      ],
      "text/plain": [
       "<IPython.core.display.HTML object>"
      ]
     },
     "metadata": {},
     "output_type": "display_data"
    }
   ],
   "source": [
    "display_image(os.path.join(material_dir, 'jupyter_toc2_config.png'))"
   ]
  },
  {
   "cell_type": "markdown",
   "metadata": {},
   "source": [
    "## 在报告中插入图表"
   ]
  },
  {
   "cell_type": "markdown",
   "metadata": {},
   "source": [
    "图表可以让报告内容清晰明了。\n",
    "\n",
    "在Jupyter Notebook中，用户可以直接将图片或表格嵌入到文本中。但为了便于将报告文本中所包含的文字、图片和表格都顺利地转换为HTML或PDF等格式，在**SmartyDoc**框架下，要求用户将图片和表格保存成图片文件，并在ipynb文本中进行引用，或直接在ipynb文件中以html格式保存。\n",
    "\n",
    "为了方便报告内容的撰写，可以使用变量`PRODUCTION_PHASE`来控制图片在ipynb文件中保存的形式。具体可以参考*Cell 2*中的变量定义方式和下面的例子。"
   ]
  },
  {
   "cell_type": "markdown",
   "metadata": {},
   "source": [
    "### 使用的工具包"
   ]
  },
  {
   "cell_type": "markdown",
   "metadata": {},
   "source": [
    "为了得到美观且样式丰富的数据图，这里建议主要使用*plotly*工具包作图，并将图片保存为SVG格式，以保证在不同设备和缩放尺度下的图片质量。\n",
    "\n",
    "对于一些非常具有设计感但难以通过*plotly*简单实现的图片，可以使用*svgutils*工具包中的图片组合功能，对图片进行重组和编辑。\n",
    "\n",
    "具体使用样例请参考下面的示例。"
   ]
  },
  {
   "cell_type": "markdown",
   "metadata": {},
   "source": [
    "### 自动添加图表编号"
   ]
  },
  {
   "cell_type": "markdown",
   "metadata": {},
   "source": [
    "在撰写报告时会产生大量的图片，要准确标注每张图的编号将会消耗很大的人力，因此我们将这项工作交给程序自动完成。\n",
    "\n",
    "在**SmartyDoc**中的`decorator`工具包中，提供了`FigCounter`类用来对图表编号进行自动计数。这个类的初始化方法请见 *Cell 2*，在初始化时需要提供图表名称的起始词，如图1，图2，...中的\"图\"字，以及设置文字的字号和字体等。初始化后，具体的使用方法请参考下文的示例。"
   ]
  },
  {
   "cell_type": "markdown",
   "metadata": {},
   "source": [
    "### 图表示例"
   ]
  },
  {
   "cell_type": "markdown",
   "metadata": {},
   "source": [
    "#### 在报告中显示图片"
   ]
  },
  {
   "cell_type": "code",
   "execution_count": 10,
   "metadata": {},
   "outputs": [
    {
     "data": {
      "text/html": [
       "<div class=\"medium\"><img src=\"imgs/sample12345/inserted_png.svg\" alt=\"image\"></div>\n"
      ],
      "text/plain": [
       "<IPython.core.display.HTML object>"
      ]
     },
     "metadata": {},
     "output_type": "display_data"
    }
   ],
   "source": [
    "compose_fig = fig_counter.add_title(os.path.join(material_dir, 'jupyter_home.png'), '插入的png图片')\n",
    "# you can append this part into your code\n",
    "if PRODUCTION_PHASE:\n",
    "    compose_fig.save(os.path.join(img_dir, 'inserted_png.svg'))\n",
    "    display_image(os.path.join(img_dir, 'inserted_png.svg'))\n",
    "else:\n",
    "    display(compose_fig)"
   ]
  },
  {
   "cell_type": "markdown",
   "metadata": {},
   "source": [
    "#### 利用Plotly画数字表-1"
   ]
  },
  {
   "cell_type": "code",
   "execution_count": 11,
   "metadata": {},
   "outputs": [
    {
     "data": {
      "text/html": [
       "<div class=\"medium\"><img src=\"imgs/sample12345/img1.svg\" alt=\"image\"></div>\n"
      ],
      "text/plain": [
       "<IPython.core.display.HTML object>"
      ]
     },
     "metadata": {},
     "output_type": "display_data"
    }
   ],
   "source": [
    "# table plot\n",
    "fig = go.Figure(data=[go.Table(\n",
    "    header=dict(values=['<b>学校名称</b>', '<b>总人数</b>',\n",
    "                        '<b>男生</b>', '<b>女生</b>', '<b>班级数</b>'],\n",
    "                line_color='darkslategray',\n",
    "                fill_color='lightskyblue',\n",
    "                font_family='SimHei',\n",
    "                font=dict(color='white', size=14),\n",
    "                height=30,\n",
    "                align='center'),\n",
    "    cells=dict(values=[['A学校', 'B学校', 'C学校'], # 1st column\n",
    "                       ['100人', '90人', '80人'],  # 2nd column\n",
    "                       ['60人', '30人', '70人'],   # 3rd column\n",
    "                       ['40人', '60人', '10人'],   # 4th column\n",
    "                       [10, 15, 6],               # 5th column\n",
    "                      ],\n",
    "               line_color='darkslategray',\n",
    "               fill_color='lightcyan',\n",
    "               font_family='SimHei',\n",
    "               font_size=14,\n",
    "               height=30,\n",
    "               align='left'))\n",
    "])\n",
    "\n",
    "# 这里为表格添加表名和表的编号\n",
    "fig.update_layout(width=600, height=320)\n",
    "fig = tbl_counter.add_title(fig, '人数统计', y_pos=0)\n",
    "\n",
    "# 为了方便撰写文档时，实时看到修改的结果，建议通过变量PRODUCTION_PHRASE设置撰写的状态，\n",
    "# 将PRODUCTION_PHRASE设为False，直接将生成的图片嵌在Notebook中，设为True则保存为图片\n",
    "# 由于浏览器自己的缓存功能，如果总是保存为图片文件，会出现无论如何修改，显示\n",
    "# 出的图都不变的情况\n",
    "# 注意：建议在每个画图函数后都添加这一段，通过文件开头的PRODUCTION_PHRASE变量设置全局的状态\n",
    "if PRODUCTION_PHASE:\n",
    "    img_file = os.path.join(img_dir, 'img1.svg')\n",
    "    fig.write_image(img_file, scale=1)\n",
    "    display_image(img_file)\n",
    "else:\n",
    "    fig.show()\n"
   ]
  },
  {
   "cell_type": "markdown",
   "metadata": {},
   "source": [
    "#### 利用Plotly画数字表-2"
   ]
  },
  {
   "cell_type": "code",
   "execution_count": 12,
   "metadata": {},
   "outputs": [
    {
     "data": {
      "text/html": [
       "<div class=\"medium\"><img src=\"imgs/sample12345/img2.svg\" alt=\"image\"></div>\n"
      ],
      "text/plain": [
       "<IPython.core.display.HTML object>"
      ]
     },
     "metadata": {},
     "output_type": "display_data"
    }
   ],
   "source": [
    "fig = go.Figure(data=[go.Table(\n",
    "    header=dict(values=['<b>平均<br>等级</b>',\n",
    "                        '<b>文理<br>倾向</b>',\n",
    "                        '<b>学科发展<br>均衡程度</b>',\n",
    "                        '<b>A等级<br>学生人数</b>',\n",
    "                        '<b>B等级<br>学生人数</b>',\n",
    "                        '<b>全市<br>排名</b>',\n",
    "                        '<b>全省<br>排名</b>',\n",
    "                       ],\n",
    "                font_family='SimHei',\n",
    "                font=dict(color='black', size=14),\n",
    "                height=30,\n",
    "                align='center'),\n",
    "    cells=dict(values=[['B'],\n",
    "                       ['综合'],\n",
    "                       ['较为均衡'],\n",
    "                       ['54人'],\n",
    "                       ['0人'],\n",
    "                       ['9/61'],\n",
    "                       ['22/287'],\n",
    "                      ],\n",
    "               font_family='SimSun',\n",
    "               font_size=14,\n",
    "               height=30,\n",
    "               align='center'))\n",
    "])\n",
    "fig.update_layout(width=800, height=400)\n",
    "fig = tbl_counter.add_title(fig, '结果统计', y_pos=0)\n",
    "\n",
    "if PRODUCTION_PHASE:\n",
    "    img_file = os.path.join(img_dir, 'img2.svg')\n",
    "    fig.write_image(img_file, scale=1)\n",
    "    display_image(img_file)\n",
    "else:\n",
    "    fig.show()\n"
   ]
  },
  {
   "cell_type": "markdown",
   "metadata": {},
   "source": [
    "#### 利用Plotly画雷达图"
   ]
  },
  {
   "cell_type": "code",
   "execution_count": 13,
   "metadata": {},
   "outputs": [
    {
     "data": {
      "text/html": [
       "<div class=\"medium\"><img src=\"imgs/sample12345/img3.svg\" alt=\"image\"></div>\n"
      ],
      "text/plain": [
       "<IPython.core.display.HTML object>"
      ]
     },
     "metadata": {},
     "output_type": "display_data"
    }
   ],
   "source": [
    "labels = ['Dim1', 'Dim2', 'Dim3', 'Dim4', 'Dim5']\n",
    "r = np.random.rand(5).tolist()\n",
    "fig = go.Figure()\n",
    "fig.add_trace(go.Scatterpolar(r=r, theta=labels, fill='toself', name='Test'))\n",
    "fig.update_layout(polar=dict(radialaxis=dict(visible=True, range=[0, 1])), showlegend=False)\n",
    "\n",
    "fig.update_layout(width=600, height=400, margin=dict(l=150, r=150, t=20, b=20))\n",
    "fig = fig_counter.add_title(fig, '一张雷达图', y_pos=0)\n",
    "\n",
    "if PRODUCTION_PHASE:\n",
    "    img_file = os.path.join(img_dir, 'img3.svg')\n",
    "    fig.write_image(img_file, scale=1)\n",
    "    display_image(img_file)\n",
    "else:\n",
    "    fig.show()\n"
   ]
  },
  {
   "cell_type": "markdown",
   "metadata": {},
   "source": [
    "#### 利用svgutils工具包进行图片组合"
   ]
  },
  {
   "cell_type": "markdown",
   "metadata": {},
   "source": [
    "有时一般的数据图表无法满足直观和美观等要求，因此需要通过美术设计来制作比较复杂的图表。这里我们可以使用*svgutils*工具包对多个图片进行组合，以及添加图形、文字等元素，进一步丰富图片的内容。\n",
    "\n",
    "可参考下面这个例子制作图片。"
   ]
  },
  {
   "cell_type": "code",
   "execution_count": 14,
   "metadata": {},
   "outputs": [
    {
     "data": {
      "text/html": [
       "<div class=\"medium\"><img src=\"imgs/sample12345/general_report_final.svg\" alt=\"image\"></div>\n"
      ],
      "text/plain": [
       "<IPython.core.display.HTML object>"
      ]
     },
     "metadata": {},
     "output_type": "display_data"
    }
   ],
   "source": [
    "# general report\n",
    "general_score = 356\n",
    "general_percentage = 59\n",
    "grade_stage = [0, 10, 25, 75, 90]\n",
    "general_grade = np.sum(np.array(grade_stage)<general_percentage)  \n",
    "\n",
    "# plot pie\n",
    "rot = 0\n",
    "color_maps = ['rgb(255,187,26)', 'rgb(181,229,255)']\n",
    "label = ['超过','未超过']\n",
    "pie_value = [general_percentage, 100-general_percentage]\n",
    "sub_per = str(int(general_percentage))\n",
    "if general_percentage< 50:\n",
    "    rot = 360*general_percentage/100\n",
    "else:\n",
    "    rot = 0\n",
    "\n",
    "layout = go.Layout(\n",
    "    paper_bgcolor='rgba(0,0,0,0)',\n",
    "    plot_bgcolor='rgba(0,0,0,0)'\n",
    ")\n",
    "fig = go.Figure(data=[go.Pie(labels=label, \n",
    "                             values=pie_value,\n",
    "                             hole=.8,\n",
    "                             marker_colors=color_maps,\n",
    "                             textinfo='none',\n",
    "                             rotation = rot\n",
    "                             )],\n",
    "                layout=layout)\n",
    "fig.update_layout(showlegend=False,\n",
    "                  width=350,\n",
    "                  height=350,\n",
    "                 )\n",
    "img_file = os.path.join(img_dir, 'general_pie_tmp.svg')\n",
    "fig.write_image(img_file, scale=1)\n",
    "#display_image(img_file)\n",
    "\n",
    "heart_loc = [0, 93, 138, 183, 227, 274]\n",
    "# general plot\n",
    "compose_fig = sc.Figure(490, 150,\n",
    "                  sc.SVG(os.path.join(material_dir, 'score_background.svg')),\n",
    "                  sc.SVG(os.path.join(material_dir, 'xin3.svg')).scale(1.0).move(heart_loc[general_grade], 70),\n",
    "                  sc.SVG(os.path.join(img_dir, 'general_pie_tmp.svg')).scale(0.8).move(275, -70),\n",
    "                  sc.Text(str(int(general_percentage))+'%', 392, 120, size=20, font='PingFang SC', weight='bold', color='rgb(255, 187, 26)'),\n",
    "                  sc.Text(str(int(general_score)), 153, 57, size=25, font='PingFang SC', weight='bold', color='rgb(245, 73, 70)'),\n",
    "                  #sc.Grid(20, 20),\n",
    "                  )\n",
    "\n",
    "compose_fig = fig_counter.add_title(compose_fig, '一张合成的复杂图')\n",
    "\n",
    "# you can append this part into your code\n",
    "if PRODUCTION_PHASE:\n",
    "    compose_fig.save(os.path.join(img_dir, 'general_report_final.svg'))\n",
    "    display_image(os.path.join(img_dir, 'general_report_final.svg'))\n",
    "else:\n",
    "    display(compose_fig)\n"
   ]
  },
  {
   "cell_type": "markdown",
   "metadata": {},
   "source": [
    "#### 使用html呈现长表格"
   ]
  },
  {
   "cell_type": "markdown",
   "metadata": {},
   "source": [
    "在报告中，如果需要呈现比较长的表格，如会跨越多页的表格，可以使用html形式来实现长表格，如下例。"
   ]
  },
  {
   "cell_type": "code",
   "execution_count": 15,
   "metadata": {},
   "outputs": [
    {
     "data": {
      "text/html": [
       "<table border=\"1\">\n",
       "<thead>\n",
       "<tr>\n",
       "<th>学校名称</th>\n",
       "<th>总人数</th>\n",
       "<th>男生</th>\n",
       "<th>女生</th>\n",
       "<th>班级数</th>\n",
       "</tr>\n",
       "</thead>\n",
       "<tfoot>\n",
       "<tr>\n",
       "<td>合计</td>\n",
       "<td>270人</td>\n",
       "<td>160人</td>\n",
       "<td>110人</td>\n",
       "<td>21</td>\n",
       "</tr>\n",
       "</tfoot>\n",
       "<tbody>\n",
       "<tr>\n",
       "<td>A学校</td>\n",
       "<td>100人</td>\n",
       "<td>60人</td>\n",
       "<td>40人</td>\n",
       "<td>10</td>\n",
       "</tr>\n",
       "<tr>\n",
       "<td>B学校</td>\n",
       "<td>90人</td>\n",
       "<td>30人</td>\n",
       "<td>60人</td>\n",
       "<td>15</td>\n",
       "</tr>\n",
       "<tr>\n",
       "<td>C学校</td>\n",
       "<td>80人</td>\n",
       "<td>70人</td>\n",
       "<td>10人</td>\n",
       "<td>6</td>\n",
       "</tr>\n",
       "<tr>\n",
       "<td>123</td>\n",
       "<td>39</td>\n",
       "<td>191</td>\n",
       "<td>180</td>\n",
       "<td>23</td>\n",
       "</tr>\n",
       "<tr>\n",
       "<td>95</td>\n",
       "<td>55</td>\n",
       "<td>22</td>\n",
       "<td>96</td>\n",
       "<td>193</td>\n",
       "</tr>\n",
       "<tr>\n",
       "<td>29</td>\n",
       "<td>136</td>\n",
       "<td>52</td>\n",
       "<td>109</td>\n",
       "<td>130</td>\n",
       "</tr>\n",
       "<tr>\n",
       "<td>60</td>\n",
       "<td>57</td>\n",
       "<td>77</td>\n",
       "<td>24</td>\n",
       "<td>94</td>\n",
       "</tr>\n",
       "<tr>\n",
       "<td>31</td>\n",
       "<td>144</td>\n",
       "<td>123</td>\n",
       "<td>104</td>\n",
       "<td>129</td>\n",
       "</tr>\n",
       "<tr>\n",
       "<td>20</td>\n",
       "<td>129</td>\n",
       "<td>38</td>\n",
       "<td>49</td>\n",
       "<td>144</td>\n",
       "</tr>\n",
       "<tr>\n",
       "<td>129</td>\n",
       "<td>90</td>\n",
       "<td>32</td>\n",
       "<td>83</td>\n",
       "<td>17</td>\n",
       "</tr>\n",
       "<tr>\n",
       "<td>25</td>\n",
       "<td>69</td>\n",
       "<td>168</td>\n",
       "<td>104</td>\n",
       "<td>84</td>\n",
       "</tr>\n",
       "<tr>\n",
       "<td>74</td>\n",
       "<td>114</td>\n",
       "<td>57</td>\n",
       "<td>11</td>\n",
       "<td>119</td>\n",
       "</tr>\n",
       "<tr>\n",
       "<td>39</td>\n",
       "<td>22</td>\n",
       "<td>158</td>\n",
       "<td>172</td>\n",
       "<td>52</td>\n",
       "</tr>\n",
       "<tr>\n",
       "<td>197</td>\n",
       "<td>71</td>\n",
       "<td>106</td>\n",
       "<td>160</td>\n",
       "<td>59</td>\n",
       "</tr>\n",
       "<tr>\n",
       "<td>105</td>\n",
       "<td>175</td>\n",
       "<td>37</td>\n",
       "<td>160</td>\n",
       "<td>136</td>\n",
       "</tr>\n",
       "<tr>\n",
       "<td>165</td>\n",
       "<td>94</td>\n",
       "<td>192</td>\n",
       "<td>69</td>\n",
       "<td>17</td>\n",
       "</tr>\n",
       "<tr>\n",
       "<td>36</td>\n",
       "<td>51</td>\n",
       "<td>31</td>\n",
       "<td>105</td>\n",
       "<td>31</td>\n",
       "</tr>\n",
       "<tr>\n",
       "<td>182</td>\n",
       "<td>154</td>\n",
       "<td>130</td>\n",
       "<td>35</td>\n",
       "<td>176</td>\n",
       "</tr>\n",
       "<tr>\n",
       "<td>114</td>\n",
       "<td>11</td>\n",
       "<td>19</td>\n",
       "<td>71</td>\n",
       "<td>192</td>\n",
       "</tr>\n",
       "<tr>\n",
       "<td>144</td>\n",
       "<td>68</td>\n",
       "<td>18</td>\n",
       "<td>115</td>\n",
       "<td>25</td>\n",
       "</tr>\n",
       "<tr>\n",
       "<td>163</td>\n",
       "<td>28</td>\n",
       "<td>168</td>\n",
       "<td>65</td>\n",
       "<td>96</td>\n",
       "</tr>\n",
       "<tr>\n",
       "<td>125</td>\n",
       "<td>127</td>\n",
       "<td>120</td>\n",
       "<td>197</td>\n",
       "<td>138</td>\n",
       "</tr>\n",
       "<tr>\n",
       "<td>104</td>\n",
       "<td>95</td>\n",
       "<td>140</td>\n",
       "<td>32</td>\n",
       "<td>58</td>\n",
       "</tr>\n",
       "<tr>\n",
       "<td>53</td>\n",
       "<td>173</td>\n",
       "<td>97</td>\n",
       "<td>12</td>\n",
       "<td>175</td>\n",
       "</tr>\n",
       "<tr>\n",
       "<td>32</td>\n",
       "<td>112</td>\n",
       "<td>139</td>\n",
       "<td>63</td>\n",
       "<td>82</td>\n",
       "</tr>\n",
       "<tr>\n",
       "<td>33</td>\n",
       "<td>18</td>\n",
       "<td>164</td>\n",
       "<td>116</td>\n",
       "<td>69</td>\n",
       "</tr>\n",
       "<tr>\n",
       "<td>90</td>\n",
       "<td>54</td>\n",
       "<td>177</td>\n",
       "<td>17</td>\n",
       "<td>156</td>\n",
       "</tr>\n",
       "<tr>\n",
       "<td>58</td>\n",
       "<td>21</td>\n",
       "<td>178</td>\n",
       "<td>115</td>\n",
       "<td>109</td>\n",
       "</tr>\n",
       "<tr>\n",
       "<td>18</td>\n",
       "<td>95</td>\n",
       "<td>20</td>\n",
       "<td>64</td>\n",
       "<td>164</td>\n",
       "</tr>\n",
       "<tr>\n",
       "<td>28</td>\n",
       "<td>27</td>\n",
       "<td>177</td>\n",
       "<td>80</td>\n",
       "<td>183</td>\n",
       "</tr>\n",
       "<tr>\n",
       "<td>171</td>\n",
       "<td>183</td>\n",
       "<td>162</td>\n",
       "<td>54</td>\n",
       "<td>80</td>\n",
       "</tr>\n",
       "<tr>\n",
       "<td>84</td>\n",
       "<td>135</td>\n",
       "<td>102</td>\n",
       "<td>174</td>\n",
       "<td>73</td>\n",
       "</tr>\n",
       "<tr>\n",
       "<td>115</td>\n",
       "<td>14</td>\n",
       "<td>44</td>\n",
       "<td>70</td>\n",
       "<td>192</td>\n",
       "</tr>\n",
       "<tr>\n",
       "<td>133</td>\n",
       "<td>162</td>\n",
       "<td>151</td>\n",
       "<td>18</td>\n",
       "<td>148</td>\n",
       "</tr>\n",
       "<tr>\n",
       "<td>177</td>\n",
       "<td>124</td>\n",
       "<td>175</td>\n",
       "<td>12</td>\n",
       "<td>35</td>\n",
       "</tr>\n",
       "<tr>\n",
       "<td>65</td>\n",
       "<td>94</td>\n",
       "<td>75</td>\n",
       "<td>77</td>\n",
       "<td>20</td>\n",
       "</tr>\n",
       "<tr>\n",
       "<td>165</td>\n",
       "<td>34</td>\n",
       "<td>88</td>\n",
       "<td>12</td>\n",
       "<td>118</td>\n",
       "</tr>\n",
       "<tr>\n",
       "<td>61</td>\n",
       "<td>188</td>\n",
       "<td>196</td>\n",
       "<td>54</td>\n",
       "<td>17</td>\n",
       "</tr>\n",
       "<tr>\n",
       "<td>184</td>\n",
       "<td>50</td>\n",
       "<td>195</td>\n",
       "<td>129</td>\n",
       "<td>85</td>\n",
       "</tr>\n",
       "<tr>\n",
       "<td>74</td>\n",
       "<td>106</td>\n",
       "<td>48</td>\n",
       "<td>10</td>\n",
       "<td>98</td>\n",
       "</tr>\n",
       "<tr>\n",
       "<td>145</td>\n",
       "<td>191</td>\n",
       "<td>182</td>\n",
       "<td>100</td>\n",
       "<td>70</td>\n",
       "</tr>\n",
       "<tr>\n",
       "<td>120</td>\n",
       "<td>12</td>\n",
       "<td>134</td>\n",
       "<td>158</td>\n",
       "<td>129</td>\n",
       "</tr>\n",
       "<tr>\n",
       "<td>76</td>\n",
       "<td>160</td>\n",
       "<td>69</td>\n",
       "<td>182</td>\n",
       "<td>18</td>\n",
       "</tr>\n",
       "<tr>\n",
       "<td>118</td>\n",
       "<td>154</td>\n",
       "<td>103</td>\n",
       "<td>31</td>\n",
       "<td>53</td>\n",
       "</tr>\n",
       "<tr>\n",
       "<td>119</td>\n",
       "<td>35</td>\n",
       "<td>50</td>\n",
       "<td>21</td>\n",
       "<td>41</td>\n",
       "</tr>\n",
       "<tr>\n",
       "<td>79</td>\n",
       "<td>44</td>\n",
       "<td>110</td>\n",
       "<td>80</td>\n",
       "<td>86</td>\n",
       "</tr>\n",
       "<tr>\n",
       "<td>114</td>\n",
       "<td>95</td>\n",
       "<td>114</td>\n",
       "<td>168</td>\n",
       "<td>176</td>\n",
       "</tr>\n",
       "<tr>\n",
       "<td>126</td>\n",
       "<td>187</td>\n",
       "<td>110</td>\n",
       "<td>198</td>\n",
       "<td>73</td>\n",
       "</tr>\n",
       "<tr>\n",
       "<td>107</td>\n",
       "<td>12</td>\n",
       "<td>85</td>\n",
       "<td>99</td>\n",
       "<td>60</td>\n",
       "</tr>\n",
       "<tr>\n",
       "<td>155</td>\n",
       "<td>76</td>\n",
       "<td>46</td>\n",
       "<td>138</td>\n",
       "<td>82</td>\n",
       "</tr>\n",
       "<tr>\n",
       "<td>72</td>\n",
       "<td>115</td>\n",
       "<td>15</td>\n",
       "<td>131</td>\n",
       "<td>148</td>\n",
       "</tr>\n",
       "<tr>\n",
       "<td>189</td>\n",
       "<td>56</td>\n",
       "<td>78</td>\n",
       "<td>157</td>\n",
       "<td>165</td>\n",
       "</tr>\n",
       "<tr>\n",
       "<td>73</td>\n",
       "<td>136</td>\n",
       "<td>175</td>\n",
       "<td>131</td>\n",
       "<td>78</td>\n",
       "</tr>\n",
       "<tr>\n",
       "<td>20</td>\n",
       "<td>154</td>\n",
       "<td>77</td>\n",
       "<td>62</td>\n",
       "<td>77</td>\n",
       "</tr>\n",
       "<tr>\n",
       "<td>69</td>\n",
       "<td>169</td>\n",
       "<td>75</td>\n",
       "<td>14</td>\n",
       "<td>191</td>\n",
       "</tr>\n",
       "<tr>\n",
       "<td>74</td>\n",
       "<td>181</td>\n",
       "<td>154</td>\n",
       "<td>182</td>\n",
       "<td>131</td>\n",
       "</tr>\n",
       "<tr>\n",
       "<td>24</td>\n",
       "<td>145</td>\n",
       "<td>197</td>\n",
       "<td>108</td>\n",
       "<td>186</td>\n",
       "</tr>\n",
       "<tr>\n",
       "<td>121</td>\n",
       "<td>67</td>\n",
       "<td>174</td>\n",
       "<td>84</td>\n",
       "<td>64</td>\n",
       "</tr>\n",
       "<tr>\n",
       "<td>195</td>\n",
       "<td>43</td>\n",
       "<td>63</td>\n",
       "<td>65</td>\n",
       "<td>36</td>\n",
       "</tr>\n",
       "<tr>\n",
       "<td>72</td>\n",
       "<td>186</td>\n",
       "<td>170</td>\n",
       "<td>191</td>\n",
       "<td>24</td>\n",
       "</tr>\n",
       "<tr>\n",
       "<td>167</td>\n",
       "<td>107</td>\n",
       "<td>199</td>\n",
       "<td>148</td>\n",
       "<td>86</td>\n",
       "</tr>\n",
       "<tr>\n",
       "<td>149</td>\n",
       "<td>89</td>\n",
       "<td>98</td>\n",
       "<td>92</td>\n",
       "<td>35</td>\n",
       "</tr>\n",
       "<tr>\n",
       "<td>175</td>\n",
       "<td>55</td>\n",
       "<td>131</td>\n",
       "<td>198</td>\n",
       "<td>83</td>\n",
       "</tr>\n",
       "<tr>\n",
       "<td>184</td>\n",
       "<td>27</td>\n",
       "<td>162</td>\n",
       "<td>169</td>\n",
       "<td>54</td>\n",
       "</tr>\n",
       "<tr>\n",
       "<td>107</td>\n",
       "<td>42</td>\n",
       "<td>104</td>\n",
       "<td>194</td>\n",
       "<td>50</td>\n",
       "</tr>\n",
       "<tr>\n",
       "<td>45</td>\n",
       "<td>198</td>\n",
       "<td>159</td>\n",
       "<td>18</td>\n",
       "<td>67</td>\n",
       "</tr>\n",
       "<tr>\n",
       "<td>163</td>\n",
       "<td>94</td>\n",
       "<td>94</td>\n",
       "<td>103</td>\n",
       "<td>61</td>\n",
       "</tr>\n",
       "<tr>\n",
       "<td>60</td>\n",
       "<td>28</td>\n",
       "<td>178</td>\n",
       "<td>88</td>\n",
       "<td>173</td>\n",
       "</tr>\n",
       "<tr>\n",
       "<td>37</td>\n",
       "<td>136</td>\n",
       "<td>187</td>\n",
       "<td>126</td>\n",
       "<td>152</td>\n",
       "</tr>\n",
       "<tr>\n",
       "<td>188</td>\n",
       "<td>125</td>\n",
       "<td>83</td>\n",
       "<td>83</td>\n",
       "<td>78</td>\n",
       "</tr>\n",
       "<tr>\n",
       "<td>141</td>\n",
       "<td>83</td>\n",
       "<td>69</td>\n",
       "<td>148</td>\n",
       "<td>180</td>\n",
       "</tr>\n",
       "<tr>\n",
       "<td>35</td>\n",
       "<td>67</td>\n",
       "<td>14</td>\n",
       "<td>182</td>\n",
       "<td>137</td>\n",
       "</tr>\n",
       "<tr>\n",
       "<td>62</td>\n",
       "<td>116</td>\n",
       "<td>165</td>\n",
       "<td>90</td>\n",
       "<td>171</td>\n",
       "</tr>\n",
       "<tr>\n",
       "<td>38</td>\n",
       "<td>36</td>\n",
       "<td>57</td>\n",
       "<td>58</td>\n",
       "<td>30</td>\n",
       "</tr>\n",
       "<tr>\n",
       "<td>71</td>\n",
       "<td>38</td>\n",
       "<td>110</td>\n",
       "<td>41</td>\n",
       "<td>156</td>\n",
       "</tr>\n",
       "<tr>\n",
       "<td>125</td>\n",
       "<td>89</td>\n",
       "<td>116</td>\n",
       "<td>100</td>\n",
       "<td>108</td>\n",
       "</tr>\n",
       "<tr>\n",
       "<td>22</td>\n",
       "<td>53</td>\n",
       "<td>198</td>\n",
       "<td>147</td>\n",
       "<td>78</td>\n",
       "</tr>\n",
       "<tr>\n",
       "<td>51</td>\n",
       "<td>63</td>\n",
       "<td>154</td>\n",
       "<td>83</td>\n",
       "<td>92</td>\n",
       "</tr>\n",
       "<tr>\n",
       "<td>35</td>\n",
       "<td>104</td>\n",
       "<td>185</td>\n",
       "<td>29</td>\n",
       "<td>114</td>\n",
       "</tr>\n",
       "<tr>\n",
       "<td>82</td>\n",
       "<td>127</td>\n",
       "<td>182</td>\n",
       "<td>62</td>\n",
       "<td>52</td>\n",
       "</tr>\n",
       "<tr>\n",
       "<td>49</td>\n",
       "<td>114</td>\n",
       "<td>28</td>\n",
       "<td>154</td>\n",
       "<td>45</td>\n",
       "</tr>\n",
       "<tr>\n",
       "<td>125</td>\n",
       "<td>103</td>\n",
       "<td>132</td>\n",
       "<td>142</td>\n",
       "<td>187</td>\n",
       "</tr>\n",
       "<tr>\n",
       "<td>10</td>\n",
       "<td>113</td>\n",
       "<td>18</td>\n",
       "<td>35</td>\n",
       "<td>135</td>\n",
       "</tr>\n",
       "<tr>\n",
       "<td>33</td>\n",
       "<td>79</td>\n",
       "<td>11</td>\n",
       "<td>126</td>\n",
       "<td>65</td>\n",
       "</tr>\n",
       "<tr>\n",
       "<td>131</td>\n",
       "<td>62</td>\n",
       "<td>83</td>\n",
       "<td>68</td>\n",
       "<td>192</td>\n",
       "</tr>\n",
       "<tr>\n",
       "<td>169</td>\n",
       "<td>33</td>\n",
       "<td>41</td>\n",
       "<td>99</td>\n",
       "<td>159</td>\n",
       "</tr>\n",
       "<tr>\n",
       "<td>90</td>\n",
       "<td>16</td>\n",
       "<td>126</td>\n",
       "<td>57</td>\n",
       "<td>56</td>\n",
       "</tr>\n",
       "<tr>\n",
       "<td>152</td>\n",
       "<td>32</td>\n",
       "<td>139</td>\n",
       "<td>74</td>\n",
       "<td>34</td>\n",
       "</tr>\n",
       "<tr>\n",
       "<td>145</td>\n",
       "<td>175</td>\n",
       "<td>196</td>\n",
       "<td>138</td>\n",
       "<td>88</td>\n",
       "</tr>\n",
       "<tr>\n",
       "<td>148</td>\n",
       "<td>42</td>\n",
       "<td>56</td>\n",
       "<td>144</td>\n",
       "<td>127</td>\n",
       "</tr>\n",
       "<tr>\n",
       "<td>189</td>\n",
       "<td>87</td>\n",
       "<td>49</td>\n",
       "<td>35</td>\n",
       "<td>194</td>\n",
       "</tr>\n",
       "<tr>\n",
       "<td>198</td>\n",
       "<td>109</td>\n",
       "<td>188</td>\n",
       "<td>32</td>\n",
       "<td>170</td>\n",
       "</tr>\n",
       "<tr>\n",
       "<td>72</td>\n",
       "<td>51</td>\n",
       "<td>32</td>\n",
       "<td>28</td>\n",
       "<td>142</td>\n",
       "</tr>\n",
       "<tr>\n",
       "<td>117</td>\n",
       "<td>159</td>\n",
       "<td>149</td>\n",
       "<td>67</td>\n",
       "<td>185</td>\n",
       "</tr>\n",
       "<tr>\n",
       "<td>41</td>\n",
       "<td>53</td>\n",
       "<td>197</td>\n",
       "<td>13</td>\n",
       "<td>36</td>\n",
       "</tr>\n",
       "<tr>\n",
       "<td>184</td>\n",
       "<td>88</td>\n",
       "<td>115</td>\n",
       "<td>177</td>\n",
       "<td>194</td>\n",
       "</tr>\n",
       "<tr>\n",
       "<td>188</td>\n",
       "<td>31</td>\n",
       "<td>197</td>\n",
       "<td>63</td>\n",
       "<td>194</td>\n",
       "</tr>\n",
       "<tr>\n",
       "<td>119</td>\n",
       "<td>199</td>\n",
       "<td>130</td>\n",
       "<td>154</td>\n",
       "<td>98</td>\n",
       "</tr>\n",
       "<tr>\n",
       "<td>196</td>\n",
       "<td>90</td>\n",
       "<td>55</td>\n",
       "<td>103</td>\n",
       "<td>86</td>\n",
       "</tr>\n",
       "<tr>\n",
       "<td>133</td>\n",
       "<td>65</td>\n",
       "<td>48</td>\n",
       "<td>163</td>\n",
       "<td>159</td>\n",
       "</tr>\n",
       "<tr>\n",
       "<td>83</td>\n",
       "<td>84</td>\n",
       "<td>161</td>\n",
       "<td>149</td>\n",
       "<td>190</td>\n",
       "</tr>\n",
       "<tr>\n",
       "<td>180</td>\n",
       "<td>142</td>\n",
       "<td>113</td>\n",
       "<td>55</td>\n",
       "<td>111</td>\n",
       "</tr>\n",
       "<tr>\n",
       "<td>100</td>\n",
       "<td>65</td>\n",
       "<td>72</td>\n",
       "<td>67</td>\n",
       "<td>110</td>\n",
       "</tr>\n",
       "</tbody>\n",
       "</table>"
      ],
      "text/plain": [
       "<IPython.core.display.HTML object>"
      ]
     },
     "metadata": {},
     "output_type": "display_data"
    }
   ],
   "source": [
    "import random\n",
    "rand_info = []\n",
    "for i in range(100):\n",
    "    tmp = []\n",
    "    for j in range(5):\n",
    "        tmp.append(random.randint(10, 200))\n",
    "    rand_info.append(tmp)\n",
    "\n",
    "tbl_html = sdplot.draw_table(head=['学校名称', '总人数', '男生', '女生', '班级数'],\n",
    "                             cells=[['A学校', '100人', '60人', '40人', 10],\n",
    "                                    ['B学校',  '90人', '30人', '60人', 15],\n",
    "                                    ['C学校',  '80人', '70人', '10人',  6],\n",
    "                                   ]+rand_info,\n",
    "                             foot=['合计', '270人', '160人', '110人', 21]\n",
    "                            )\n",
    "display(HTML(tbl_html))"
   ]
  },
  {
   "cell_type": "markdown",
   "metadata": {},
   "source": [
    "## 生成PDF格式的报告文档"
   ]
  },
  {
   "cell_type": "markdown",
   "metadata": {},
   "source": [
    "在使用Jupyter Notebook完成报告内容后，可以使用**SmartyDoc**提供的处理流程，将ipynb格式的报告文本转换成PDF格式。"
   ]
  },
  {
   "cell_type": "markdown",
   "metadata": {},
   "source": [
    "### PDF文档转换流程"
   ]
  },
  {
   "cell_type": "markdown",
   "metadata": {},
   "source": [
    "### 需要准备哪些文件"
   ]
  },
  {
   "cell_type": "markdown",
   "metadata": {},
   "source": [
    "### 使用printview2插件实现PDF文档生成"
   ]
  },
  {
   "cell_type": "markdown",
   "metadata": {},
   "source": [
    "### 使用命令行操作实现PDF文档生成"
   ]
  },
  {
   "cell_type": "code",
   "execution_count": null,
   "metadata": {},
   "outputs": [],
   "source": []
  }
 ],
 "metadata": {
  "hide_input": false,
  "kernelspec": {
   "display_name": "Python 3",
   "language": "python",
   "name": "python3"
  },
  "language_info": {
   "codemirror_mode": {
    "name": "ipython",
    "version": 3
   },
   "file_extension": ".py",
   "mimetype": "text/x-python",
   "name": "python",
   "nbconvert_exporter": "python",
   "pygments_lexer": "ipython3",
   "version": "3.7.4"
  },
  "toc": {
   "base_numbering": 1,
   "nav_menu": {},
   "number_sections": true,
   "sideBar": true,
   "skip_h1_title": true,
   "title_cell": "目录",
   "title_sidebar": "Contents",
   "toc_cell": false,
   "toc_position": {},
   "toc_section_display": true,
   "toc_window_display": true
  },
  "varInspector": {
   "cols": {
    "lenName": 16,
    "lenType": 16,
    "lenVar": 40
   },
   "kernels_config": {
    "python": {
     "delete_cmd_postfix": "",
     "delete_cmd_prefix": "del ",
     "library": "var_list.py",
     "varRefreshCmd": "print(var_dic_list())"
    },
    "r": {
     "delete_cmd_postfix": ") ",
     "delete_cmd_prefix": "rm(",
     "library": "var_list.r",
     "varRefreshCmd": "cat(var_dic_list()) "
    }
   },
   "types_to_exclude": [
    "module",
    "function",
    "builtin_function_or_method",
    "instance",
    "_Feature"
   ],
   "window_display": false
  }
 },
 "nbformat": 4,
 "nbformat_minor": 2
}
