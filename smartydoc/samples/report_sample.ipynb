{
 "cells": [
  {
   "cell_type": "code",
   "execution_count": 1,
   "metadata": {},
   "outputs": [],
   "source": [
    "import os\n",
    "\n",
    "# for rendering\n",
    "from IPython.core.display import HTML, Markdown\n",
    "\n",
    "# for data analysis\n",
    "import numpy as np\n",
    "import datetime\n",
    "\n",
    "# for plotting\n",
    "import plotly.graph_objects as go\n",
    "import svgutils.compose as sc\n",
    "\n",
    "# figure/table number counter\n",
    "from smartydoc.decorator import FigCounter\n",
    "\n",
    "# for long table\n",
    "import smartydoc.matplot as sdplot"
   ]
  },
  {
   "cell_type": "code",
   "execution_count": 2,
   "metadata": {},
   "outputs": [],
   "source": [
    "# var for iteration\n",
    "# this ID must be an unique index of a student / school,\n",
    "# you can fetch ALL needed data used in this notebook with this ID. \n",
    "#iter_id = os.getenv('ITERID')\n",
    "iter_id = 'sample12345'\n",
    "\n",
    "# helper var for development\n",
    "# if False, only display image embeded in the notebook,\n",
    "# if True, the code would save the image as a SVG file for final report.\n",
    "PRODUCTION_PHASE = False\n",
    "\n",
    "# figure/table counter\n",
    "fig_counter = FigCounter('图', font_size=15, font_family='SimHei')\n",
    "tbl_counter = FigCounter('表', font_size=15, font_family='SimHei')\n"
   ]
  },
  {
   "cell_type": "code",
   "execution_count": 3,
   "metadata": {},
   "outputs": [],
   "source": [
    "# image dir config\n",
    "material_dir = os.path.join(os.path.curdir, 'imgs', 'common')\n",
    "img_dir = os.path.join(os.path.curdir, 'imgs', iter_id)\n",
    "if not os.path.exists(img_dir):\n",
    "    os.makedirs(img_dir, mode=0o755)\n",
    "\n",
    "# helpers for image display\n",
    "def display_image(img_file, cls='medium'):\n",
    "    \"\"\"\n",
    "    img_file: a image file path\n",
    "    cls: small, medium, large, sign, or qrcode\n",
    "    \"\"\"\n",
    "    # os.path.relpath(path) -> 返回path的相对路径，保证文件整体移动后仍可以找到图片\n",
    "    if cls:\n",
    "        html_str = '<div class=\"%s\"><img src=\"%s\" alt=\"image\"></div>\\n'%(cls, os.path.relpath(img_file))\n",
    "    else: \n",
    "        html_str = '<div class=\"medium\"><img src=\"%s\" alt=\"image\"></div>\\n'%(os.path.relpath(img_file))\n",
    "    display(HTML(html_str))"
   ]
  },
  {
   "cell_type": "code",
   "execution_count": 4,
   "metadata": {},
   "outputs": [],
   "source": [
    "# helper for cover generation\n",
    "# XXX: add more info\n",
    "def gen_cover(cover_cfg):\n",
    "    html_content = []\n",
    "    if 'main_cn' in cover_cfg:\n",
    "        html_content.append('<h1 id=\"cover\">%s</h1>'%(cover_cfg['main_cn']))\n",
    "    if 'school' in cover_cfg:\n",
    "        html_content.append('<school>%s</school>'%(cover_cfg['school']))\n",
    "    if 'stu_name' in cover_cfg:\n",
    "        html_content.append('<stuname>%s</stuname>'%(cover_cfg['stu_name']))\n",
    "    if 'stu_class' in cover_cfg:\n",
    "        html_content.append('<stuclass>%s</stuclass>'%(cover_cfg['stu_class']))\n",
    "    if 'company' in cover_cfg:\n",
    "        html_content.append('<address>%s</address>'%(cover_cfg['company']))\n",
    "    if 'test_date' in cover_cfg:\n",
    "        html_content.append('<testdate>%s</testdate>'%(cover_cfg['test_date']))\n",
    "\n",
    "    display(HTML('\\n'.join(html_content)))"
   ]
  },
  {
   "cell_type": "code",
   "execution_count": 5,
   "metadata": {},
   "outputs": [
    {
     "data": {
      "text/html": [
       "<h1 id=\"cover\">使用Jupyter Notebook<br>撰写数据分析报告</h1>\n",
       "<address>SmartyDoc项目组</address>\n",
       "<testdate>2020年3月</testdate>"
      ],
      "text/plain": [
       "<IPython.core.display.HTML object>"
      ]
     },
     "metadata": {},
     "output_type": "display_data"
    }
   ],
   "source": [
    "# cover config\n",
    "today = datetime.datetime.today()\n",
    "cover_cfg = {'main_cn': '使用Jupyter Notebook<br>撰写数据分析报告',\n",
    "             'company': 'SmartyDoc项目组',\n",
    "             'test_date': str(today.year)+'年'+str(today.month)+'月',\n",
    "            }\n",
    "gen_cover(cover_cfg)"
   ]
  },
  {
   "cell_type": "markdown",
   "metadata": {},
   "source": [
    "## 前言"
   ]
  },
  {
   "cell_type": "markdown",
   "metadata": {},
   "source": [
    "> Jupyter Notebook是基于网页的用于交互计算的应用程序，其可被应用于全过程计算：开发、文档编写、运行代码和展示结果。\n",
    ">\n",
    "> <rightalign> — Jupyter Notebook 官方介绍 </rightalign>"
   ]
  },
  {
   "cell_type": "code",
   "execution_count": 6,
   "metadata": {},
   "outputs": [
    {
     "data": {
      "text/html": [
       "<div class=\"medium\"><img src=\"imgs/common/jupyter_home.png\" alt=\"image\"></div>\n"
      ],
      "text/plain": [
       "<IPython.core.display.HTML object>"
      ]
     },
     "metadata": {},
     "output_type": "display_data"
    }
   ],
   "source": [
    "display_image(os.path.join(material_dir, 'jupyter_home.png'))"
   ]
  },
  {
   "cell_type": "markdown",
   "metadata": {},
   "source": [
    "简而言之，Jupyter Notebook是以网页的形式存储，可以在网页页面中直接编写和运行代码，代码的运行结果也会直接在代码块下显示。如在编程过程中需要编写说明文档，可在同一个页面中直接编写，便于作及时的说明和解释。\n",
    "\n",
    "基于Jupyter Notebook具备富文档和标准化的特性，我们也希望可以利用它生成美观的数据分析报告。**SmartyDoc**就是为此而生。利用**SmartyDoc**提供的文本标准化流程，我们可以将包含图文的Jupyter Notebook文件转存为具备特定层级结构的html文件，配合适当的css文件以及**weasyprint**工具，即可产生PDF格式的报告文档。\n",
    "\n",
    "要顺利使用**SmartyDoc**完成报告，要求使用者掌握Python和MarkDown两种语言。\n",
    "\n",
    "下面将具体介绍如何利用这套工具撰写报告文档。"
   ]
  },
  {
   "cell_type": "markdown",
   "metadata": {},
   "source": [
    "## 规划报告的逻辑结构"
   ]
  },
  {
   "cell_type": "markdown",
   "metadata": {},
   "source": [
    "在撰写数据分析报告时，把报告的逻辑结构规划好，将报告内容划分为几个相对独立、且逻辑连贯的章节，会让后续工作更加顺利。如整篇报告可以包含几大**章**，每**章**可以包含多个**小节**，每个**小节**可以进一步划分为多个**子节**。"
   ]
  },
  {
   "cell_type": "markdown",
   "metadata": {},
   "source": [
    "在**SmartyDoc**的框架内，文档的层级结构基于MarkDown语言中的*Heading*实现，即报告的题目为一级标题，用 `# 报告题目` 这种形式实现，各个章节的标题为二级标题，用 `## 章节标题` 的形式实现，以下可以继续出现三级、四级...等不同等级的章节。\n",
    "\n",
    "在撰写报告时，报告题目的样式以一段程序自动生成，用户只需提供报告封面的内容即可，具体可以参考此ipynb文件的*Cell 4*和*Cell 5*中的内容。需要用户自己写的报告章节结构，以二级标题为最高层级。\n",
    "\n",
    "在每个章节下，可以出现文字、表格和图片等信息。为了保证用MarkDown语言撰写的报告内容可以正常显示，需要将对应*Cell*的语言设置为`MarkDown`。"
   ]
  },
  {
   "cell_type": "markdown",
   "metadata": {},
   "source": [
    "### 显示Python程序中输出的文本"
   ]
  },
  {
   "cell_type": "markdown",
   "metadata": {},
   "source": [
    "在进行数据分析时，我们经常需要根据分析结果打印对应的数据和结果描述，因此需要保证Python程序中打印的文字也能够正常显示在报告正文中。在**SmartyDoc**的框架下，我们可以使用如下方式显示Python程序中输出的文本。"
   ]
  },
  {
   "cell_type": "code",
   "execution_count": 7,
   "metadata": {},
   "outputs": [
    {
     "data": {
      "text/markdown": [
       "打印Python程序中的输出文本 ... 变量的数值是 78。"
      ],
      "text/plain": [
       "<IPython.core.display.Markdown object>"
      ]
     },
     "metadata": {},
     "output_type": "display_data"
    }
   ],
   "source": [
    "some_score = 78\n",
    "display(Markdown('打印Python程序中的输出文本 ... 变量的数值是 %s。'%(some_score)))"
   ]
  },
  {
   "cell_type": "markdown",
   "metadata": {},
   "source": [
    "### 使用toc2插件管理文档目录"
   ]
  },
  {
   "cell_type": "markdown",
   "metadata": {},
   "source": [
    "Jupyter Notebook是一个很棒的教学、探索和编程环境，但其功能仍存在很多不足。幸好，它允许我们使用一些插件来扩展它的功能。其中有一个插件叫Table of Contents (2) (toc2)，可以为Jupyter Notebook提供目录。可以在Jupyter的Nbextensions扩展管理页内，通过勾选框启用扩展。\n",
    "\n",
    "点击按钮栏最后部的图标，目录列表会以左侧边栏的形式显示，toc2的使用效果见下图。\n"
   ]
  },
  {
   "cell_type": "code",
   "execution_count": 8,
   "metadata": {},
   "outputs": [
    {
     "data": {
      "text/html": [
       "<div class=\"medium\"><img src=\"imgs/common/jupyter_toc2.png\" alt=\"image\"></div>\n"
      ],
      "text/plain": [
       "<IPython.core.display.HTML object>"
      ]
     },
     "metadata": {},
     "output_type": "display_data"
    }
   ],
   "source": [
    "display_image(os.path.join(material_dir, 'jupyter_toc2.png'))"
   ]
  },
  {
   "cell_type": "markdown",
   "metadata": {},
   "source": [
    "为了与**SmartyDoc**的框架兼容，需要对toc2扩展进行一些设置，可以通过点击目录列表上部的`齿轮图标`进行设置(如下图)，并将`h1`级标题排除出目录范畴（在**SmartyDoc**的框架下，章节结构以二级标题为最高层级）。"
   ]
  },
  {
   "cell_type": "code",
   "execution_count": 9,
   "metadata": {},
   "outputs": [
    {
     "data": {
      "text/html": [
       "<div class=\"medium\"><img src=\"imgs/common/jupyter_toc2_config.png\" alt=\"image\"></div>\n"
      ],
      "text/plain": [
       "<IPython.core.display.HTML object>"
      ]
     },
     "metadata": {},
     "output_type": "display_data"
    }
   ],
   "source": [
    "display_image(os.path.join(material_dir, 'jupyter_toc2_config.png'))"
   ]
  },
  {
   "cell_type": "markdown",
   "metadata": {},
   "source": [
    "## 在报告中插入图表"
   ]
  },
  {
   "cell_type": "markdown",
   "metadata": {},
   "source": [
    "图表可以让报告内容清晰明了。\n",
    "\n",
    "在Jupyter Notebook中，用户可以直接将图片或表格嵌入到文本中。但为了便于将报告文本中所包含的文字、图片和表格都顺利地转换为HTML或PDF等格式，在**SmartyDoc**框架下，要求用户将图片和表格保存成图片文件，并在ipynb文本中进行引用，或直接在ipynb文件中以html格式保存。\n",
    "\n",
    "为了方便报告内容的撰写，可以使用变量`PRODUCTION_PHASE`来控制图片在ipynb文件中保存的形式。具体可以参考*Cell 2*中的变量定义方式和下面的例子。"
   ]
  },
  {
   "cell_type": "markdown",
   "metadata": {},
   "source": [
    "### 使用的工具包"
   ]
  },
  {
   "cell_type": "markdown",
   "metadata": {},
   "source": [
    "为了得到美观且样式丰富的数据图，这里建议主要使用*plotly*工具包作图，并将图片保存为SVG格式，以保证在不同设备和缩放尺度下的图片质量。\n",
    "\n",
    "对于一些非常具有设计感但难以通过*plotly*简单实现的图片，可以使用*svgutils*工具包中的图片组合功能，对图片进行重组和编辑。\n",
    "\n",
    "具体使用样例请参考下面的示例。"
   ]
  },
  {
   "cell_type": "markdown",
   "metadata": {},
   "source": [
    "### 自动添加图表编号"
   ]
  },
  {
   "cell_type": "markdown",
   "metadata": {},
   "source": [
    "在撰写报告时会产生大量的图片，要准确标注每张图的编号将会消耗很大的人力，因此我们将这项工作交给程序自动完成。\n",
    "\n",
    "在**SmartyDoc**中的`decorator`工具包中，提供了`FigCounter`类用来对图表编号进行自动计数。这个类的初始化方法请见 *Cell 2*，在初始化时需要提供图表名称的起始词，如图1，图2，...中的\"图\"字，以及设置文字的字号和字体等。初始化后，具体的使用方法请参考下文的示例。"
   ]
  },
  {
   "cell_type": "markdown",
   "metadata": {},
   "source": [
    "### 图表示例 - 在报告中插入图片"
   ]
  },
  {
   "cell_type": "code",
   "execution_count": 10,
   "metadata": {},
   "outputs": [
    {
     "data": {
      "text/html": [
       "<div class=\"medium\"><img src=\"imgs/sample12345/inserted_png.svg\" alt=\"image\"></div>\n"
      ],
      "text/plain": [
       "<IPython.core.display.HTML object>"
      ]
     },
     "metadata": {},
     "output_type": "display_data"
    }
   ],
   "source": [
    "compose_fig = fig_counter.add_title(os.path.join(material_dir, 'jupyter_home.png'), '插入的png图片')\n",
    "# you can append this part into your code\n",
    "if PRODUCTION_PHASE:\n",
    "    compose_fig.save(os.path.join(img_dir, 'inserted_png.svg'))\n",
    "    display_image(os.path.join(img_dir, 'inserted_png.svg'))\n",
    "else:\n",
    "    display(compose_fig)"
   ]
  },
  {
   "cell_type": "markdown",
   "metadata": {},
   "source": [
    "### 图表示例 - 表格"
   ]
  },
  {
   "cell_type": "markdown",
   "metadata": {},
   "source": [
    "#### 表格1"
   ]
  },
  {
   "cell_type": "code",
   "execution_count": 11,
   "metadata": {},
   "outputs": [
    {
     "data": {
      "text/html": [
       "<div class=\"medium\"><img src=\"imgs/sample12345/img1.svg\" alt=\"image\"></div>\n"
      ],
      "text/plain": [
       "<IPython.core.display.HTML object>"
      ]
     },
     "metadata": {},
     "output_type": "display_data"
    }
   ],
   "source": [
    "# 表头\n",
    "tbl_header = [\n",
    "    '<b>学校名称</b>',\n",
    "    '<b>总人数</b>',\n",
    "    '<b>男生</b>',\n",
    "    '<b>女生</b>',\n",
    "    '<b>班级数</b>'\n",
    "]\n",
    "# 内容\n",
    "tbl_values = [\n",
    "    ['A学校', 'B学校', 'C学校'], # 1st column\n",
    "    ['100人', '90人', '80人'],  # 2nd column\n",
    "    ['60人', '30人', '70人'],   # 3rd column\n",
    "    ['40人', '60人', '10人'],   # 4th column\n",
    "    [10, 15, 6],               # 5th column\n",
    "]\n",
    "\n",
    "fig = go.Figure(data=[go.Table(\n",
    "    header=dict(values=tbl_header,\n",
    "                line_color='darkslategray',\n",
    "                fill_color='lightskyblue',\n",
    "                font_family='SimHei',\n",
    "                font=dict(color='white', size=14),\n",
    "                height=30,\n",
    "                align='center'),\n",
    "    cells=dict(values=tbl_values,\n",
    "               line_color='darkslategray',\n",
    "               fill_color='lightcyan',\n",
    "               font_family='SimHei',\n",
    "               font_size=14,\n",
    "               height=30,\n",
    "               align='left'))\n",
    "])\n",
    "\n",
    "# 这里为表格添加表名和表的编号\n",
    "fig.update_layout(width=600, height=320)\n",
    "fig = tbl_counter.add_title(fig, '人数统计', y_pos=0)\n",
    "\n",
    "# 为了方便撰写文档时，实时看到修改的结果，建议通过变量PRODUCTION_PHASE设置撰写的状态，\n",
    "# 将PRODUCTION_PHASE设为False，直接将生成的图片嵌在Notebook中，设为True则保存为图片\n",
    "# 由于浏览器自己的缓存功能，如果总是保存为图片文件，会出现无论如何修改，显示\n",
    "# 出的图都不变的情况\n",
    "# 注意：建议在每个画图函数后都添加这一段，通过文件开头的PRODUCTION_PHRASE变量设置全局的状态\n",
    "if PRODUCTION_PHASE:\n",
    "    img_file = os.path.join(img_dir, 'img1.svg')\n",
    "    fig.write_image(img_file, scale=1)\n",
    "    display_image(img_file)\n",
    "else:\n",
    "    fig.show()\n"
   ]
  },
  {
   "cell_type": "markdown",
   "metadata": {},
   "source": [
    "#### 表格2"
   ]
  },
  {
   "cell_type": "code",
   "execution_count": 12,
   "metadata": {},
   "outputs": [
    {
     "data": {
      "text/html": [
       "<div class=\"medium\"><img src=\"imgs/sample12345/img2.svg\" alt=\"image\"></div>\n"
      ],
      "text/plain": [
       "<IPython.core.display.HTML object>"
      ]
     },
     "metadata": {},
     "output_type": "display_data"
    }
   ],
   "source": [
    "# 表头\n",
    "tbl_header = [\n",
    "    '<b>平均<br>等级</b>',\n",
    "    '<b>文理<br>倾向</b>',\n",
    "    '<b>学科发展<br>均衡程度</b>',\n",
    "    '<b>A等级<br>学生人数</b>',\n",
    "    '<b>B等级<br>学生人数</b>',\n",
    "    '<b>全市<br>排名</b>',\n",
    "    '<b>全省<br>排名</b>',\n",
    "]\n",
    "# 内容\n",
    "tbl_values = [\n",
    "    ['B', 'A'],\n",
    "    ['综合', '文'],\n",
    "    ['较为均衡', '均衡'],\n",
    "    ['54人', '100人'],\n",
    "    ['0人', '10人'],\n",
    "    ['9/61', '12/61'],\n",
    "    ['22/287', '40/287'],\n",
    "]\n",
    "\n",
    "fig = go.Figure(data=[go.Table(\n",
    "    header=dict(values=tbl_header,\n",
    "                font_family='SimHei',\n",
    "                font=dict(color='black', size=14),\n",
    "                height=30,\n",
    "                align='center'),\n",
    "    cells=dict(values=tbl_values,\n",
    "               font_family='SimSun',\n",
    "               font_size=14,\n",
    "               height=30,\n",
    "               align='center'))\n",
    "])\n",
    "fig.update_layout(width=800, height=400)\n",
    "fig = tbl_counter.add_title(fig, '结果统计', y_pos=0)\n",
    "\n",
    "if PRODUCTION_PHASE:\n",
    "    img_file = os.path.join(img_dir, 'img2.svg')\n",
    "    fig.write_image(img_file, scale=1)\n",
    "    display_image(img_file)\n",
    "else:\n",
    "    fig.show()\n"
   ]
  },
  {
   "cell_type": "markdown",
   "metadata": {},
   "source": [
    "#### 可跨页的长表格"
   ]
  },
  {
   "cell_type": "markdown",
   "metadata": {},
   "source": [
    "在报告中，如果需要呈现比较长的表格，如会跨越多页的表格，可以使用html形式来实现长表格，如下例。"
   ]
  },
  {
   "cell_type": "code",
   "execution_count": 13,
   "metadata": {},
   "outputs": [
    {
     "data": {
      "text/html": [
       "<table border=\"1\">\n",
       "<thead>\n",
       "<tr>\n",
       "<th>学校名称</th>\n",
       "<th>总人数</th>\n",
       "<th>男生</th>\n",
       "<th>女生</th>\n",
       "<th>班级数</th>\n",
       "</tr>\n",
       "</thead>\n",
       "<tfoot>\n",
       "<tr>\n",
       "<td>合计</td>\n",
       "<td>270人</td>\n",
       "<td>160人</td>\n",
       "<td>110人</td>\n",
       "<td>21</td>\n",
       "</tr>\n",
       "</tfoot>\n",
       "<tbody>\n",
       "<tr>\n",
       "<td>A学校</td>\n",
       "<td>100人</td>\n",
       "<td>60人</td>\n",
       "<td>40人</td>\n",
       "<td>10</td>\n",
       "</tr>\n",
       "<tr>\n",
       "<td>B学校</td>\n",
       "<td>90人</td>\n",
       "<td>30人</td>\n",
       "<td>60人</td>\n",
       "<td>15</td>\n",
       "</tr>\n",
       "<tr>\n",
       "<td>C学校</td>\n",
       "<td>80人</td>\n",
       "<td>70人</td>\n",
       "<td>10人</td>\n",
       "<td>6</td>\n",
       "</tr>\n",
       "<tr>\n",
       "<td>学校1</td>\n",
       "<td>131人</td>\n",
       "<td>143人</td>\n",
       "<td>60人</td>\n",
       "<td>12</td>\n",
       "</tr>\n",
       "<tr>\n",
       "<td>学校2</td>\n",
       "<td>13人</td>\n",
       "<td>193人</td>\n",
       "<td>100人</td>\n",
       "<td>9</td>\n",
       "</tr>\n",
       "<tr>\n",
       "<td>学校3</td>\n",
       "<td>40人</td>\n",
       "<td>143人</td>\n",
       "<td>103人</td>\n",
       "<td>7</td>\n",
       "</tr>\n",
       "<tr>\n",
       "<td>学校4</td>\n",
       "<td>24人</td>\n",
       "<td>151人</td>\n",
       "<td>137人</td>\n",
       "<td>8</td>\n",
       "</tr>\n",
       "<tr>\n",
       "<td>学校5</td>\n",
       "<td>152人</td>\n",
       "<td>151人</td>\n",
       "<td>22人</td>\n",
       "<td>5</td>\n",
       "</tr>\n",
       "<tr>\n",
       "<td>学校6</td>\n",
       "<td>185人</td>\n",
       "<td>143人</td>\n",
       "<td>77人</td>\n",
       "<td>9</td>\n",
       "</tr>\n",
       "<tr>\n",
       "<td>学校7</td>\n",
       "<td>138人</td>\n",
       "<td>176人</td>\n",
       "<td>170人</td>\n",
       "<td>5</td>\n",
       "</tr>\n",
       "<tr>\n",
       "<td>学校8</td>\n",
       "<td>158人</td>\n",
       "<td>98人</td>\n",
       "<td>134人</td>\n",
       "<td>14</td>\n",
       "</tr>\n",
       "<tr>\n",
       "<td>学校9</td>\n",
       "<td>55人</td>\n",
       "<td>38人</td>\n",
       "<td>161人</td>\n",
       "<td>5</td>\n",
       "</tr>\n",
       "<tr>\n",
       "<td>学校10</td>\n",
       "<td>78人</td>\n",
       "<td>169人</td>\n",
       "<td>108人</td>\n",
       "<td>20</td>\n",
       "</tr>\n",
       "<tr>\n",
       "<td>学校11</td>\n",
       "<td>84人</td>\n",
       "<td>54人</td>\n",
       "<td>17人</td>\n",
       "<td>5</td>\n",
       "</tr>\n",
       "<tr>\n",
       "<td>学校12</td>\n",
       "<td>189人</td>\n",
       "<td>76人</td>\n",
       "<td>42人</td>\n",
       "<td>19</td>\n",
       "</tr>\n",
       "<tr>\n",
       "<td>学校13</td>\n",
       "<td>196人</td>\n",
       "<td>65人</td>\n",
       "<td>92人</td>\n",
       "<td>8</td>\n",
       "</tr>\n",
       "<tr>\n",
       "<td>学校14</td>\n",
       "<td>89人</td>\n",
       "<td>185人</td>\n",
       "<td>193人</td>\n",
       "<td>13</td>\n",
       "</tr>\n",
       "<tr>\n",
       "<td>学校15</td>\n",
       "<td>197人</td>\n",
       "<td>37人</td>\n",
       "<td>97人</td>\n",
       "<td>10</td>\n",
       "</tr>\n",
       "<tr>\n",
       "<td>学校16</td>\n",
       "<td>165人</td>\n",
       "<td>25人</td>\n",
       "<td>82人</td>\n",
       "<td>10</td>\n",
       "</tr>\n",
       "<tr>\n",
       "<td>学校17</td>\n",
       "<td>10人</td>\n",
       "<td>138人</td>\n",
       "<td>127人</td>\n",
       "<td>18</td>\n",
       "</tr>\n",
       "<tr>\n",
       "<td>学校18</td>\n",
       "<td>145人</td>\n",
       "<td>171人</td>\n",
       "<td>156人</td>\n",
       "<td>17</td>\n",
       "</tr>\n",
       "<tr>\n",
       "<td>学校19</td>\n",
       "<td>134人</td>\n",
       "<td>195人</td>\n",
       "<td>88人</td>\n",
       "<td>19</td>\n",
       "</tr>\n",
       "<tr>\n",
       "<td>学校20</td>\n",
       "<td>63人</td>\n",
       "<td>87人</td>\n",
       "<td>92人</td>\n",
       "<td>18</td>\n",
       "</tr>\n",
       "<tr>\n",
       "<td>学校21</td>\n",
       "<td>17人</td>\n",
       "<td>94人</td>\n",
       "<td>46人</td>\n",
       "<td>17</td>\n",
       "</tr>\n",
       "<tr>\n",
       "<td>学校22</td>\n",
       "<td>138人</td>\n",
       "<td>60人</td>\n",
       "<td>180人</td>\n",
       "<td>20</td>\n",
       "</tr>\n",
       "<tr>\n",
       "<td>学校23</td>\n",
       "<td>156人</td>\n",
       "<td>107人</td>\n",
       "<td>139人</td>\n",
       "<td>14</td>\n",
       "</tr>\n",
       "<tr>\n",
       "<td>学校24</td>\n",
       "<td>182人</td>\n",
       "<td>53人</td>\n",
       "<td>200人</td>\n",
       "<td>6</td>\n",
       "</tr>\n",
       "<tr>\n",
       "<td>学校25</td>\n",
       "<td>119人</td>\n",
       "<td>117人</td>\n",
       "<td>65人</td>\n",
       "<td>12</td>\n",
       "</tr>\n",
       "<tr>\n",
       "<td>学校26</td>\n",
       "<td>82人</td>\n",
       "<td>67人</td>\n",
       "<td>97人</td>\n",
       "<td>10</td>\n",
       "</tr>\n",
       "<tr>\n",
       "<td>学校27</td>\n",
       "<td>114人</td>\n",
       "<td>100人</td>\n",
       "<td>117人</td>\n",
       "<td>16</td>\n",
       "</tr>\n",
       "<tr>\n",
       "<td>学校28</td>\n",
       "<td>81人</td>\n",
       "<td>24人</td>\n",
       "<td>169人</td>\n",
       "<td>17</td>\n",
       "</tr>\n",
       "<tr>\n",
       "<td>学校29</td>\n",
       "<td>107人</td>\n",
       "<td>198人</td>\n",
       "<td>84人</td>\n",
       "<td>18</td>\n",
       "</tr>\n",
       "<tr>\n",
       "<td>学校30</td>\n",
       "<td>35人</td>\n",
       "<td>14人</td>\n",
       "<td>150人</td>\n",
       "<td>6</td>\n",
       "</tr>\n",
       "<tr>\n",
       "<td>学校31</td>\n",
       "<td>191人</td>\n",
       "<td>111人</td>\n",
       "<td>61人</td>\n",
       "<td>7</td>\n",
       "</tr>\n",
       "<tr>\n",
       "<td>学校32</td>\n",
       "<td>195人</td>\n",
       "<td>195人</td>\n",
       "<td>161人</td>\n",
       "<td>13</td>\n",
       "</tr>\n",
       "<tr>\n",
       "<td>学校33</td>\n",
       "<td>81人</td>\n",
       "<td>59人</td>\n",
       "<td>64人</td>\n",
       "<td>10</td>\n",
       "</tr>\n",
       "<tr>\n",
       "<td>学校34</td>\n",
       "<td>196人</td>\n",
       "<td>108人</td>\n",
       "<td>169人</td>\n",
       "<td>18</td>\n",
       "</tr>\n",
       "<tr>\n",
       "<td>学校35</td>\n",
       "<td>45人</td>\n",
       "<td>106人</td>\n",
       "<td>158人</td>\n",
       "<td>4</td>\n",
       "</tr>\n",
       "<tr>\n",
       "<td>学校36</td>\n",
       "<td>64人</td>\n",
       "<td>81人</td>\n",
       "<td>19人</td>\n",
       "<td>9</td>\n",
       "</tr>\n",
       "<tr>\n",
       "<td>学校37</td>\n",
       "<td>180人</td>\n",
       "<td>198人</td>\n",
       "<td>48人</td>\n",
       "<td>9</td>\n",
       "</tr>\n",
       "<tr>\n",
       "<td>学校38</td>\n",
       "<td>151人</td>\n",
       "<td>111人</td>\n",
       "<td>112人</td>\n",
       "<td>11</td>\n",
       "</tr>\n",
       "<tr>\n",
       "<td>学校39</td>\n",
       "<td>32人</td>\n",
       "<td>140人</td>\n",
       "<td>157人</td>\n",
       "<td>17</td>\n",
       "</tr>\n",
       "<tr>\n",
       "<td>学校40</td>\n",
       "<td>98人</td>\n",
       "<td>107人</td>\n",
       "<td>200人</td>\n",
       "<td>10</td>\n",
       "</tr>\n",
       "<tr>\n",
       "<td>学校41</td>\n",
       "<td>89人</td>\n",
       "<td>128人</td>\n",
       "<td>12人</td>\n",
       "<td>17</td>\n",
       "</tr>\n",
       "<tr>\n",
       "<td>学校42</td>\n",
       "<td>45人</td>\n",
       "<td>132人</td>\n",
       "<td>49人</td>\n",
       "<td>20</td>\n",
       "</tr>\n",
       "<tr>\n",
       "<td>学校43</td>\n",
       "<td>43人</td>\n",
       "<td>34人</td>\n",
       "<td>100人</td>\n",
       "<td>6</td>\n",
       "</tr>\n",
       "<tr>\n",
       "<td>学校44</td>\n",
       "<td>200人</td>\n",
       "<td>117人</td>\n",
       "<td>56人</td>\n",
       "<td>6</td>\n",
       "</tr>\n",
       "<tr>\n",
       "<td>学校45</td>\n",
       "<td>154人</td>\n",
       "<td>162人</td>\n",
       "<td>56人</td>\n",
       "<td>14</td>\n",
       "</tr>\n",
       "<tr>\n",
       "<td>学校46</td>\n",
       "<td>112人</td>\n",
       "<td>148人</td>\n",
       "<td>162人</td>\n",
       "<td>11</td>\n",
       "</tr>\n",
       "<tr>\n",
       "<td>学校47</td>\n",
       "<td>115人</td>\n",
       "<td>116人</td>\n",
       "<td>160人</td>\n",
       "<td>19</td>\n",
       "</tr>\n",
       "<tr>\n",
       "<td>学校48</td>\n",
       "<td>97人</td>\n",
       "<td>92人</td>\n",
       "<td>192人</td>\n",
       "<td>15</td>\n",
       "</tr>\n",
       "<tr>\n",
       "<td>学校49</td>\n",
       "<td>191人</td>\n",
       "<td>81人</td>\n",
       "<td>179人</td>\n",
       "<td>20</td>\n",
       "</tr>\n",
       "<tr>\n",
       "<td>学校50</td>\n",
       "<td>101人</td>\n",
       "<td>96人</td>\n",
       "<td>79人</td>\n",
       "<td>10</td>\n",
       "</tr>\n",
       "<tr>\n",
       "<td>学校51</td>\n",
       "<td>153人</td>\n",
       "<td>185人</td>\n",
       "<td>156人</td>\n",
       "<td>4</td>\n",
       "</tr>\n",
       "<tr>\n",
       "<td>学校52</td>\n",
       "<td>162人</td>\n",
       "<td>101人</td>\n",
       "<td>20人</td>\n",
       "<td>9</td>\n",
       "</tr>\n",
       "<tr>\n",
       "<td>学校53</td>\n",
       "<td>195人</td>\n",
       "<td>53人</td>\n",
       "<td>121人</td>\n",
       "<td>14</td>\n",
       "</tr>\n",
       "<tr>\n",
       "<td>学校54</td>\n",
       "<td>98人</td>\n",
       "<td>162人</td>\n",
       "<td>22人</td>\n",
       "<td>19</td>\n",
       "</tr>\n",
       "<tr>\n",
       "<td>学校55</td>\n",
       "<td>135人</td>\n",
       "<td>143人</td>\n",
       "<td>36人</td>\n",
       "<td>15</td>\n",
       "</tr>\n",
       "<tr>\n",
       "<td>学校56</td>\n",
       "<td>23人</td>\n",
       "<td>58人</td>\n",
       "<td>140人</td>\n",
       "<td>12</td>\n",
       "</tr>\n",
       "<tr>\n",
       "<td>学校57</td>\n",
       "<td>45人</td>\n",
       "<td>169人</td>\n",
       "<td>63人</td>\n",
       "<td>8</td>\n",
       "</tr>\n",
       "<tr>\n",
       "<td>学校58</td>\n",
       "<td>61人</td>\n",
       "<td>163人</td>\n",
       "<td>55人</td>\n",
       "<td>9</td>\n",
       "</tr>\n",
       "<tr>\n",
       "<td>学校59</td>\n",
       "<td>188人</td>\n",
       "<td>87人</td>\n",
       "<td>172人</td>\n",
       "<td>8</td>\n",
       "</tr>\n",
       "<tr>\n",
       "<td>学校60</td>\n",
       "<td>110人</td>\n",
       "<td>200人</td>\n",
       "<td>35人</td>\n",
       "<td>13</td>\n",
       "</tr>\n",
       "<tr>\n",
       "<td>学校61</td>\n",
       "<td>184人</td>\n",
       "<td>144人</td>\n",
       "<td>40人</td>\n",
       "<td>13</td>\n",
       "</tr>\n",
       "<tr>\n",
       "<td>学校62</td>\n",
       "<td>183人</td>\n",
       "<td>20人</td>\n",
       "<td>68人</td>\n",
       "<td>8</td>\n",
       "</tr>\n",
       "<tr>\n",
       "<td>学校63</td>\n",
       "<td>44人</td>\n",
       "<td>24人</td>\n",
       "<td>128人</td>\n",
       "<td>6</td>\n",
       "</tr>\n",
       "<tr>\n",
       "<td>学校64</td>\n",
       "<td>32人</td>\n",
       "<td>61人</td>\n",
       "<td>154人</td>\n",
       "<td>10</td>\n",
       "</tr>\n",
       "<tr>\n",
       "<td>学校65</td>\n",
       "<td>47人</td>\n",
       "<td>83人</td>\n",
       "<td>196人</td>\n",
       "<td>17</td>\n",
       "</tr>\n",
       "<tr>\n",
       "<td>学校66</td>\n",
       "<td>170人</td>\n",
       "<td>190人</td>\n",
       "<td>39人</td>\n",
       "<td>10</td>\n",
       "</tr>\n",
       "<tr>\n",
       "<td>学校67</td>\n",
       "<td>74人</td>\n",
       "<td>96人</td>\n",
       "<td>121人</td>\n",
       "<td>3</td>\n",
       "</tr>\n",
       "<tr>\n",
       "<td>学校68</td>\n",
       "<td>176人</td>\n",
       "<td>39人</td>\n",
       "<td>51人</td>\n",
       "<td>15</td>\n",
       "</tr>\n",
       "<tr>\n",
       "<td>学校69</td>\n",
       "<td>33人</td>\n",
       "<td>144人</td>\n",
       "<td>29人</td>\n",
       "<td>12</td>\n",
       "</tr>\n",
       "<tr>\n",
       "<td>学校70</td>\n",
       "<td>68人</td>\n",
       "<td>83人</td>\n",
       "<td>34人</td>\n",
       "<td>7</td>\n",
       "</tr>\n",
       "<tr>\n",
       "<td>学校71</td>\n",
       "<td>50人</td>\n",
       "<td>14人</td>\n",
       "<td>55人</td>\n",
       "<td>5</td>\n",
       "</tr>\n",
       "<tr>\n",
       "<td>学校72</td>\n",
       "<td>183人</td>\n",
       "<td>16人</td>\n",
       "<td>192人</td>\n",
       "<td>16</td>\n",
       "</tr>\n",
       "<tr>\n",
       "<td>学校73</td>\n",
       "<td>72人</td>\n",
       "<td>79人</td>\n",
       "<td>129人</td>\n",
       "<td>7</td>\n",
       "</tr>\n",
       "<tr>\n",
       "<td>学校74</td>\n",
       "<td>116人</td>\n",
       "<td>80人</td>\n",
       "<td>163人</td>\n",
       "<td>7</td>\n",
       "</tr>\n",
       "<tr>\n",
       "<td>学校75</td>\n",
       "<td>178人</td>\n",
       "<td>52人</td>\n",
       "<td>109人</td>\n",
       "<td>5</td>\n",
       "</tr>\n",
       "<tr>\n",
       "<td>学校76</td>\n",
       "<td>133人</td>\n",
       "<td>200人</td>\n",
       "<td>193人</td>\n",
       "<td>8</td>\n",
       "</tr>\n",
       "<tr>\n",
       "<td>学校77</td>\n",
       "<td>67人</td>\n",
       "<td>155人</td>\n",
       "<td>166人</td>\n",
       "<td>9</td>\n",
       "</tr>\n",
       "<tr>\n",
       "<td>学校78</td>\n",
       "<td>68人</td>\n",
       "<td>95人</td>\n",
       "<td>45人</td>\n",
       "<td>15</td>\n",
       "</tr>\n",
       "<tr>\n",
       "<td>学校79</td>\n",
       "<td>20人</td>\n",
       "<td>165人</td>\n",
       "<td>96人</td>\n",
       "<td>17</td>\n",
       "</tr>\n",
       "<tr>\n",
       "<td>学校80</td>\n",
       "<td>150人</td>\n",
       "<td>68人</td>\n",
       "<td>20人</td>\n",
       "<td>11</td>\n",
       "</tr>\n",
       "<tr>\n",
       "<td>学校81</td>\n",
       "<td>47人</td>\n",
       "<td>111人</td>\n",
       "<td>82人</td>\n",
       "<td>20</td>\n",
       "</tr>\n",
       "<tr>\n",
       "<td>学校82</td>\n",
       "<td>185人</td>\n",
       "<td>110人</td>\n",
       "<td>135人</td>\n",
       "<td>11</td>\n",
       "</tr>\n",
       "<tr>\n",
       "<td>学校83</td>\n",
       "<td>180人</td>\n",
       "<td>196人</td>\n",
       "<td>28人</td>\n",
       "<td>4</td>\n",
       "</tr>\n",
       "<tr>\n",
       "<td>学校84</td>\n",
       "<td>151人</td>\n",
       "<td>85人</td>\n",
       "<td>119人</td>\n",
       "<td>14</td>\n",
       "</tr>\n",
       "<tr>\n",
       "<td>学校85</td>\n",
       "<td>40人</td>\n",
       "<td>136人</td>\n",
       "<td>179人</td>\n",
       "<td>20</td>\n",
       "</tr>\n",
       "<tr>\n",
       "<td>学校86</td>\n",
       "<td>32人</td>\n",
       "<td>31人</td>\n",
       "<td>144人</td>\n",
       "<td>15</td>\n",
       "</tr>\n",
       "<tr>\n",
       "<td>学校87</td>\n",
       "<td>111人</td>\n",
       "<td>141人</td>\n",
       "<td>57人</td>\n",
       "<td>6</td>\n",
       "</tr>\n",
       "<tr>\n",
       "<td>学校88</td>\n",
       "<td>118人</td>\n",
       "<td>11人</td>\n",
       "<td>13人</td>\n",
       "<td>9</td>\n",
       "</tr>\n",
       "<tr>\n",
       "<td>学校89</td>\n",
       "<td>107人</td>\n",
       "<td>181人</td>\n",
       "<td>55人</td>\n",
       "<td>7</td>\n",
       "</tr>\n",
       "<tr>\n",
       "<td>学校90</td>\n",
       "<td>155人</td>\n",
       "<td>200人</td>\n",
       "<td>139人</td>\n",
       "<td>4</td>\n",
       "</tr>\n",
       "<tr>\n",
       "<td>学校91</td>\n",
       "<td>125人</td>\n",
       "<td>138人</td>\n",
       "<td>143人</td>\n",
       "<td>11</td>\n",
       "</tr>\n",
       "<tr>\n",
       "<td>学校92</td>\n",
       "<td>124人</td>\n",
       "<td>48人</td>\n",
       "<td>198人</td>\n",
       "<td>3</td>\n",
       "</tr>\n",
       "<tr>\n",
       "<td>学校93</td>\n",
       "<td>110人</td>\n",
       "<td>35人</td>\n",
       "<td>101人</td>\n",
       "<td>12</td>\n",
       "</tr>\n",
       "<tr>\n",
       "<td>学校94</td>\n",
       "<td>129人</td>\n",
       "<td>194人</td>\n",
       "<td>91人</td>\n",
       "<td>6</td>\n",
       "</tr>\n",
       "<tr>\n",
       "<td>学校95</td>\n",
       "<td>59人</td>\n",
       "<td>66人</td>\n",
       "<td>195人</td>\n",
       "<td>19</td>\n",
       "</tr>\n",
       "<tr>\n",
       "<td>学校96</td>\n",
       "<td>52人</td>\n",
       "<td>103人</td>\n",
       "<td>31人</td>\n",
       "<td>17</td>\n",
       "</tr>\n",
       "<tr>\n",
       "<td>学校97</td>\n",
       "<td>197人</td>\n",
       "<td>33人</td>\n",
       "<td>186人</td>\n",
       "<td>12</td>\n",
       "</tr>\n",
       "<tr>\n",
       "<td>学校98</td>\n",
       "<td>55人</td>\n",
       "<td>19人</td>\n",
       "<td>166人</td>\n",
       "<td>18</td>\n",
       "</tr>\n",
       "<tr>\n",
       "<td>学校99</td>\n",
       "<td>10人</td>\n",
       "<td>64人</td>\n",
       "<td>65人</td>\n",
       "<td>8</td>\n",
       "</tr>\n",
       "<tr>\n",
       "<td>学校100</td>\n",
       "<td>104人</td>\n",
       "<td>75人</td>\n",
       "<td>155人</td>\n",
       "<td>9</td>\n",
       "</tr>\n",
       "</tbody>\n",
       "</table>"
      ],
      "text/plain": [
       "<IPython.core.display.HTML object>"
      ]
     },
     "metadata": {},
     "output_type": "display_data"
    }
   ],
   "source": [
    "import random\n",
    "\n",
    "rand_values = []\n",
    "school_idx = 1\n",
    "for i in range(100):\n",
    "    tmp = []\n",
    "    tmp.append('学校'+str(school_idx))\n",
    "    for j in range(3):\n",
    "        tmp.append(str(random.randint(10, 200))+'人')\n",
    "    tmp.append(random.randint(3, 20))\n",
    "    rand_values.append(tmp)\n",
    "    school_idx += 1\n",
    "\n",
    "tbl_html = sdplot.draw_table(head=['学校名称', '总人数', '男生', '女生', '班级数'],\n",
    "                             cells=[['A学校', '100人', '60人', '40人', 10],\n",
    "                                    ['B学校',  '90人', '30人', '60人', 15],\n",
    "                                    ['C学校',  '80人', '70人', '10人',  6],\n",
    "                                   ] + rand_values,\n",
    "                             foot=['合计', '270人', '160人', '110人', 21]\n",
    "                            )\n",
    "display(HTML(tbl_html))"
   ]
  },
  {
   "cell_type": "markdown",
   "metadata": {},
   "source": [
    "### 图表示例 - 数据图"
   ]
  },
  {
   "cell_type": "markdown",
   "metadata": {},
   "source": [
    "#### 雷达图"
   ]
  },
  {
   "cell_type": "code",
   "execution_count": 14,
   "metadata": {},
   "outputs": [],
   "source": [
    "def radar_chart(data, labels, annot_text, fig_title, output_name):\n",
    "    \"\"\"\n",
    "    输入一组长度为n的数字序列，以及长度为n的字符串标签，输出一个雷达图。\n",
    "    \n",
    "    调用方法：\n",
    "    data = [0.5, 0.7, 0.5, 0.4, 0.2]\n",
    "    labels = ['BMI','锻炼','睡眠','疾病','视力']\n",
    "    annots = '注：睡眠情况指学生的平均睡眠时间/天，≥8小时为合格。'\n",
    "    fig_title = '学生综合素质指标'\n",
    "    output_name = 'radar_example'\n",
    "    radar_chart(data, labels, annots, fig_title, output_name)\n",
    "    \"\"\"\n",
    "    # plot radar chart\n",
    "    trace0 = go.Scatterpolar(\n",
    "        r = data,\n",
    "        theta = labels,\n",
    "        fill = 'toself',\n",
    "        # 填充区域的颜色\n",
    "        fillcolor = 'rgba(155, 211, 217, 0.5)',\n",
    "        mode = 'lines+markers+text',\n",
    "        text = data,\n",
    "        marker = dict(\n",
    "            # 标记点的类型\n",
    "            symbol = 0,\n",
    "            # 线段及标记点的颜色\n",
    "            color = 'rgb(155, 211, 217)',\n",
    "       ),\n",
    "    )\n",
    "    \n",
    "    # set layout\n",
    "    layout = go.Layout(\n",
    "        polar=dict(\n",
    "            radialaxis=dict(\n",
    "                visible=True,\n",
    "                # 坐标刻度范围和刻度数量\n",
    "                #range=(0, 0.8),            \n",
    "                #nticks = 5,\n",
    "                angle = 90,\n",
    "                tickangle =90,\n",
    "                # 是否显示坐标刻度标记\n",
    "                showticklabels = False,\n",
    "            ),\n",
    "            angularaxis=dict(\n",
    "                tickfont=dict(family='SimHei', size=14),\n",
    "            ),\n",
    "        ),\n",
    "        width = 600,\n",
    "        height = 450,\n",
    "        showlegend= False,\n",
    "    )\n",
    "\n",
    "    fig = go.Figure(data=trace0, layout=layout)\n",
    "    \n",
    "    # add annotation texts\n",
    "    if annot_text:\n",
    "        annotation_list = []\n",
    "        annot0 = go.layout.Annotation(\n",
    "                    x = 0.5,\n",
    "                    y = -0.15,\n",
    "                    text = annot_text,\n",
    "                    align = 'center',\n",
    "                    font = dict(size=12, family='SimHei'),\n",
    "                    showarrow = False,\n",
    "                    #arrowwidth = 0.1,\n",
    "                    xref = 'paper',\n",
    "                    yref = 'paper',\n",
    "        )\n",
    "        annotation_list.append(annot0)\n",
    "        fig.update_layout(annotations=annotation_list)    \n",
    "\n",
    "    fig = fig_counter.add_title(fig, fig_title, y_pos=-0.2)\n",
    "\n",
    "    if PRODUCTION_PHASE:\n",
    "        img_file = os.path.join(img_dir, output_name+'.svg')\n",
    "        fig.write_image(img_file, scale=1)\n",
    "        display_image(img_file)\n",
    "    else:\n",
    "        fig.show()\n"
   ]
  },
  {
   "cell_type": "code",
   "execution_count": 15,
   "metadata": {},
   "outputs": [
    {
     "data": {
      "text/html": [
       "<div class=\"medium\"><img src=\"imgs/sample12345/radar_example.svg\" alt=\"image\"></div>\n"
      ],
      "text/plain": [
       "<IPython.core.display.HTML object>"
      ]
     },
     "metadata": {},
     "output_type": "display_data"
    }
   ],
   "source": [
    "data = [0.5, 0.7, 0.5, 0.4, 0.2]\n",
    "labels = ['BMI','锻炼','睡眠','疾病','视力']\n",
    "annot_text = '注：睡眠情况指学生的平均睡眠时间/天，≥8小时为合格。'\n",
    "fig_title = '学生综合素质指标'\n",
    "output_name = 'radar_example'\n",
    "radar_chart(data, labels, annot_text, fig_title, output_name)"
   ]
  },
  {
   "cell_type": "markdown",
   "metadata": {},
   "source": [
    "#### 横向柱形图"
   ]
  },
  {
   "cell_type": "code",
   "execution_count": 16,
   "metadata": {},
   "outputs": [],
   "source": [
    "def h1barchart(data, ticks_text, fig_title, output_name):\n",
    "    \"\"\"\n",
    "    输入一组长度为n的数字序列，结果以柱形图显示。\n",
    "    \n",
    "    调用方法：\n",
    "    data = [30, 40, 50, 60, 70]\n",
    "    ticks_text = ['足球', '篮球', '跑步', '羽毛球', '舞蹈']\n",
    "    fig_title = '本校学生选择的运动种类比例'\n",
    "    output_name='simpleBar'\n",
    "    h1barchart(data, ticks_text, fig_title, output_name)\n",
    "    \"\"\"\n",
    "    # check input\n",
    "    assert len(data)==len(ticks_text)\n",
    "    \n",
    "    # get max ticks along x-axis\n",
    "    max_x = max(data) * 1.1\n",
    "    \n",
    "    # plot bars\n",
    "    data = go.Bar(\n",
    "        x = data,\n",
    "        y = ticks_text,      \n",
    "        marker = dict(\n",
    "            color = 'rgb(88, 182, 192)',\n",
    "        ),\n",
    "        text = data,\n",
    "        textposition = 'outside',\n",
    "        orientation = 'h',\n",
    "    )\n",
    "\n",
    "    # layout config\n",
    "    layout = go.Layout(\n",
    "        # background color config\n",
    "        paper_bgcolor = 'rgba(0,0,0,0)',\n",
    "        plot_bgcolor = 'rgba(255, 255, 255, 0.5)',\n",
    "        \n",
    "        width = 600,\n",
    "        height = 450,\n",
    "        xaxis = dict(\n",
    "            showticklabels = True,\n",
    "            showline = True,\n",
    "            linecolor = 'rgb(127,127,127)',\n",
    "            mirror = True,\n",
    "            range = (0, max_x),\n",
    "        ),\n",
    "        yaxis = dict(\n",
    "            tickfont_family='SimHei',\n",
    "            showticklabels = True,\n",
    "            showline = True,\n",
    "            mirror = True,\n",
    "            linecolor = 'rgb(127,127,127)',\n",
    "            range= (-0.7,len(ticks_text)-0.3) \n",
    "        ),\n",
    "        margin = dict(\n",
    "            l = 50,    #左侧留白大小\n",
    "            r = 50,    #右侧空白大小\n",
    "            t = 80,    #上方空白大小\n",
    "            b = 110,   #下方空白大小\n",
    "        ),\n",
    "    )\n",
    "\n",
    "    fig = go.Figure(data=data, layout=layout)\n",
    "    fig = fig_counter.add_title(fig, fig_title, y_pos=-0.19)\n",
    "\n",
    "    if PRODUCTION_PHASE:\n",
    "        img_file = os.path.join(img_dir, output_name+'.svg')\n",
    "        fig.write_image(img_file, scale=1)\n",
    "        display_image(img_file)\n",
    "    else:\n",
    "        fig.show()"
   ]
  },
  {
   "cell_type": "code",
   "execution_count": 17,
   "metadata": {},
   "outputs": [
    {
     "data": {
      "text/html": [
       "<div class=\"medium\"><img src=\"imgs/sample12345/simple_bar_example.svg\" alt=\"image\"></div>\n"
      ],
      "text/plain": [
       "<IPython.core.display.HTML object>"
      ]
     },
     "metadata": {},
     "output_type": "display_data"
    }
   ],
   "source": [
    "data = [30, 40, 50, 60, 70]\n",
    "ticks_text = ['足球', '篮球', '跑步', '羽毛球', '舞蹈']\n",
    "fig_title = '本校学生选择的运动种类比例'\n",
    "output_name='simple_bar_example'\n",
    "h1barchart(data, ticks_text, fig_title, output_name)"
   ]
  },
  {
   "cell_type": "markdown",
   "metadata": {},
   "source": [
    "#### 横向柱形图 - 两组数据比较"
   ]
  },
  {
   "cell_type": "code",
   "execution_count": 18,
   "metadata": {
    "code_folding": []
   },
   "outputs": [],
   "source": [
    "def h2barschart(data1_name, data1, data2_name, data2, ticks_text, annot_text,\n",
    "                fig_title, output_name, p_values=None):\n",
    "    \"\"\"输入两个长度为n的数字序列，每个序列是对n维变量的一次采样，结果以柱形图显示。\"\"\"\n",
    "    # check input\n",
    "    assert len(data1)==len(data2)\n",
    "    assert len(data1)==len(ticks_text)\n",
    "    if isinstance(p_values, list):\n",
    "        assert len(data1)==len(p_values)\n",
    "    \n",
    "    # get max ticks along x-axis\n",
    "    max_x = max(max(data1), max(data2)) * 1.2\n",
    "    \n",
    "    # plot bars\n",
    "    trace1 = go.Bar(\n",
    "        x = data1,\n",
    "        y = ticks_text,      \n",
    "        name = data1_name,\n",
    "        marker = dict(\n",
    "            color = 'rgb(88,182,192)'\n",
    "        ),\n",
    "        text = data1,\n",
    "        textposition = 'outside',\n",
    "        orientation = 'h',\n",
    "        showlegend = True,\n",
    "    )\n",
    "\n",
    "    trace2 = go.Bar(\n",
    "        x = data2,\n",
    "        y = ticks_text,\n",
    "        name = data2_name,\n",
    "        marker = dict(\n",
    "            color = 'rgb(188,226,230)'\n",
    "        ),\n",
    "        orientation = 'h',\n",
    "        showlegend = True,\n",
    "    )\n",
    "    \n",
    "    data = [trace2, trace1]\n",
    "    \n",
    "    # layout config\n",
    "    layout = go.Layout(\n",
    "        barmode = 'group',\n",
    "        #bargroupgap = .1,\n",
    "        # background color config\n",
    "        paper_bgcolor = 'rgba(0,0,0,0)',\n",
    "        plot_bgcolor = 'rgba(255, 255, 255, 0.5)',\n",
    "        showlegend = True,\n",
    "        # 水平显示图例\n",
    "        legend = dict(x=0.3, y=1.15, font_family='SimHei'),\n",
    "        legend_orientation = \"h\",\n",
    "        # 反转图例顺序\n",
    "        legend_traceorder = \"reversed\",\n",
    "        width = 600,\n",
    "        height = 450,\n",
    "        xaxis = dict(\n",
    "            showticklabels = True,\n",
    "            showline = True,\n",
    "            linecolor = 'rgb(127,127,127)',\n",
    "            mirror = True,\n",
    "            range = (0, max_x),\n",
    "        ),\n",
    "        yaxis = dict(\n",
    "            tickfont_family='SimHei',\n",
    "            showticklabels = True,\n",
    "            showline = True,\n",
    "            mirror = True,\n",
    "            linecolor = 'rgb(127,127,127)',\n",
    "        ),\n",
    "        margin = dict(\n",
    "            l = 50,    #左侧留白大小\n",
    "            r = 50,    #右侧空白大小\n",
    "            t = 80,    #上方空白大小\n",
    "            b = 110,   #下方空白大小\n",
    "        ),\n",
    "    )\n",
    "\n",
    "    fig = go.Figure(data=data, layout=layout)\n",
    "    \n",
    "    # add annotation\n",
    "    annotation_list = []\n",
    "    if isinstance(p_values, list) and len(p_values):\n",
    "        # add significance signs\n",
    "        for i in range(len(p_values)):\n",
    "            if p_values[i]>0 and p_values[i]<0.05:\n",
    "                _text = '▲'\n",
    "            elif p_values[i]<0 and abs(p_values[i])<0.05:\n",
    "                _text = '▼'\n",
    "            else:\n",
    "                _text = '=='\n",
    "            _annot = go.layout.Annotation(\n",
    "                        x = max_x*0.97,\n",
    "                        y = i,\n",
    "                        xref = \"x\",\n",
    "                        yref = \"y\",\n",
    "                        text = _text,\n",
    "                        font = dict(size=15),\n",
    "                        showarrow = False,\n",
    "            )\n",
    "            annotation_list.append(_annot)\n",
    "        \n",
    "    # add annot texts\n",
    "    if annot_text:\n",
    "        _annot = go.layout.Annotation(\n",
    "                        x = 0.5,\n",
    "                        y = -0.17,\n",
    "                        xref = 'paper',\n",
    "                        yref = 'paper',\n",
    "                        text = annot_text,\n",
    "                        align = 'left',\n",
    "                        font = dict(size=12, family='SimHei'),\n",
    "                        showarrow = False,\n",
    "\n",
    "        )\n",
    "        annotation_list.append(_annot)\n",
    "    fig.update_layout(annotations=annotation_list)\n",
    "\n",
    "    fig = fig_counter.add_title(fig, fig_title, y_pos=-0.19)\n",
    "\n",
    "    if PRODUCTION_PHASE:\n",
    "        img_file = os.path.join(img_dir, output_name+'.svg')\n",
    "        fig.write_image(img_file, scale=1)\n",
    "        display_image(img_file)\n",
    "    else:\n",
    "        fig.show()\n"
   ]
  },
  {
   "cell_type": "code",
   "execution_count": 19,
   "metadata": {},
   "outputs": [
    {
     "data": {
      "text/html": [
       "<div class=\"medium\"><img src=\"imgs/sample12345/two_bars_comp_example.svg\" alt=\"image\"></div>\n"
      ],
      "text/plain": [
       "<IPython.core.display.HTML object>"
      ]
     },
     "metadata": {},
     "output_type": "display_data"
    }
   ],
   "source": [
    "data1_name = '学校A'\n",
    "data1 = [90, 40, 20, 70, 55]\n",
    "data2_name = '常模'\n",
    "data2 = [88, 50, 40, 90, 34]\n",
    "ticks_text = ['1年级', '2年级', '3年级', '4年级', '5年级']\n",
    "p_values = [0.2, -0.02, -0.001, -0.001, 0.002]\n",
    "annot_text = '说明：▲代表本校的得分在常模以上，▼代表本校的得分在常模以下，==代表本校和常模之间没有差异'\n",
    "fig_title = '学校A与常模的对比'\n",
    "output_name = 'two_bars_comp_example'\n",
    "h2barschart(data1_name, data1, data2_name, data2, ticks_text, annot_text,\n",
    "            fig_title, output_name, p_values=p_values)"
   ]
  },
  {
   "cell_type": "markdown",
   "metadata": {},
   "source": [
    "#### 堆叠柱形图"
   ]
  },
  {
   "cell_type": "code",
   "execution_count": 20,
   "metadata": {},
   "outputs": [],
   "source": [
    "def hstackbarchart(data, names, ticks_text, fig_title, output_name, color=None):\n",
    "    \"\"\"\n",
    "    输入一个二维嵌套列表或者2D-array，和一个等长的字符串列表。结果以堆叠的柱形图显示。\n",
    "    \n",
    "    调用方法：\n",
    "    data1_name =  '少于8小时'\n",
    "    data1 = [10, 20, 43.8]\n",
    "    data2_name = '8-9小时'\n",
    "    data2 = [80, 65, 39.6]\n",
    "    data3_name = '9小时及以上'\n",
    "    data3 = [10, 15, 16.6]\n",
    "    data=[data1, data2, data3]\n",
    "    names = [data1_name, data2_name, data3_name]\n",
    "    ticks_text = ['国家八年级', '全区', '本校']\n",
    "    fig_title = '本校学生睡眠情况与全区、国家八年级的比较'\n",
    "    output_name = 'stackbar_example'\n",
    "    #color = ['rgb(15,205,229)', 'rgb(250,12,144)']\n",
    "    hstackbarchart(data, names, ticks_text, fig_title, output_name)\n",
    "    \"\"\"\n",
    "        \n",
    "    # check input\n",
    "    assert len(data)==len(names)\n",
    "    assert len(data[0])==len(ticks_text)\n",
    "            \n",
    "    # get max ticks along x-axis\n",
    "    max_x = sum([d[0] for d in data])\n",
    "    \n",
    "    # plot bars\n",
    "    traces = []\n",
    "    \n",
    "    # set color of stack bar \n",
    "    colors = [\n",
    "        'rgb(185,205,229)',\n",
    "        'rgb(250,192,144)',\n",
    "        'rgb(147,205,221)',\n",
    "        'lightsalmon',\n",
    "        'lightslategray',\n",
    "    ]\n",
    "    # add customized color\n",
    "    if isinstance(color, list):\n",
    "        for item in color:\n",
    "            colors.append(item)\n",
    "\n",
    "    for data_n, name, color in zip(data, names, colors):\n",
    "        trace = go.Bar(\n",
    "            x = data_n,\n",
    "            y = ticks_text,\n",
    "            name = name,\n",
    "            marker = dict(\n",
    "                color = color,\n",
    "                #line=dict(color='rgb(248, 248, 249)', width=1),\n",
    "            ),\n",
    "            # 文本后缀及显示位置\n",
    "            text = ['{}%'.format(dn) for dn in data_n],\n",
    "            textposition = 'inside',         \n",
    "            insidetextanchor = 'middle',   \n",
    "            orientation = 'h',\n",
    "            showlegend = True,\n",
    "        )\n",
    "        traces.append(trace)\n",
    "    \n",
    "    # layout config\n",
    "    layout = go.Layout(\n",
    "        barmode = 'stack',\n",
    "        # background color config\n",
    "        paper_bgcolor = 'rgba(0,0,0,0)',\n",
    "        plot_bgcolor = 'rgba(255, 255, 255, 0.5)',\n",
    "        showlegend = True,\n",
    "        # 水平显示图例\n",
    "        legend_orientation = \"h\",\n",
    "        legend = dict(x=0.2, y=1.15, font_family='SimHei'),\n",
    "        # 图例顺序\n",
    "        legend_traceorder = \"normal\",\n",
    "        \n",
    "        width = 600,\n",
    "        height = 450,\n",
    "        xaxis = dict(\n",
    "            showticklabels = True,\n",
    "            showline = True,\n",
    "            linecolor = 'rgb(127,127,127)',\n",
    "            mirror = True,\n",
    "            ticksuffix = \"%\",\n",
    "            range = (0, max_x),\n",
    "        ),\n",
    "        yaxis = dict(\n",
    "            tickfont_family='SimHei',\n",
    "            showticklabels = True,\n",
    "            showline = True,\n",
    "            mirror = True,\n",
    "            linecolor = 'rgb(127,127,127)',\n",
    "        ),\n",
    "        margin = dict(\n",
    "            l = 50,    #左侧留白大小\n",
    "            r = 50,    #右侧空白大小\n",
    "            t = 80,    #上方空白大小\n",
    "            b = 110,   #下方空白大小\n",
    "        ),\n",
    "    )\n",
    "\n",
    "    fig = go.Figure(data=traces, layout=layout)\n",
    "    fig = fig_counter.add_title(fig, fig_title, y_pos=-0.19)\n",
    "\n",
    "    if PRODUCTION_PHASE:\n",
    "        img_file = os.path.join(img_dir, output_name+'.svg')\n",
    "        fig.write_image(img_file, scale=1)\n",
    "        display_image(img_file)\n",
    "    else:\n",
    "        fig.show()"
   ]
  },
  {
   "cell_type": "code",
   "execution_count": 21,
   "metadata": {},
   "outputs": [
    {
     "data": {
      "text/html": [
       "<div class=\"medium\"><img src=\"imgs/sample12345/stackbar_example.svg\" alt=\"image\"></div>\n"
      ],
      "text/plain": [
       "<IPython.core.display.HTML object>"
      ]
     },
     "metadata": {},
     "output_type": "display_data"
    }
   ],
   "source": [
    "data1_name =  '少于8小时'\n",
    "data1 = [10, 20, 43.8]\n",
    "data2_name = '8-9小时'\n",
    "data2 = [80, 65, 39.6]\n",
    "data3_name = '9小时及以上'\n",
    "data3 = [10, 15, 16.6]\n",
    "data = [data1, data2, data3]\n",
    "names = [data1_name, data2_name, data3_name]\n",
    "ticks_text = ['国家八年级', '全区', '本校']\n",
    "fig_title = '本校学生睡眠情况与全区、国家八年级的比较'\n",
    "output_name = 'stackbar_example'\n",
    "# 添加自定义颜色，可不写\n",
    "#color = ['rgb(15,205,229)', 'rgb(250,12,144)']\n",
    "hstackbarchart(data, names, ticks_text, fig_title, output_name)"
   ]
  },
  {
   "cell_type": "markdown",
   "metadata": {},
   "source": [
    "#### 饼图"
   ]
  },
  {
   "cell_type": "code",
   "execution_count": 22,
   "metadata": {},
   "outputs": [],
   "source": [
    "def piechart(names, values, fig_title, output_name):\n",
    "    \"\"\"\n",
    "    输入一组序列和一组匹配的标签，序列中是每个标签占比的百分比。结果以饼图展示。\n",
    "    \n",
    "    调用方法：\n",
    "    names= ['2小时','4小时','8小时']\n",
    "    values= [0.2, 0.3, 0.5]\n",
    "    fig_title = '本校学生锻炼时间分布情况'\n",
    "    output_name= 'pie_example'\n",
    "    fig_pie(names, values, fig_title, output_name)\n",
    "    \"\"\"\n",
    "    # check input\n",
    "    assert len(names) == len(values)\n",
    "\n",
    "    # layout config\n",
    "    layout = go.Layout(\n",
    "        # background color config\n",
    "        paper_bgcolor = 'rgba(0,0,0,0)',\n",
    "        plot_bgcolor = 'rgba(255, 255, 255, 0.5)',\n",
    "        showlegend = True,\n",
    "        legend = dict(font_family='SimHei'),\n",
    "        width = 600,\n",
    "        height = 450,\n",
    "        margin = dict(\n",
    "            l = 50,    ##左侧留白大小\n",
    "            r = 50,    ##右侧空白大小\n",
    "            t = 50,    ##上方空白大小\n",
    "            b = 110,    ##下方空白大小\n",
    "        ),\n",
    "    )\n",
    "\n",
    "    # plot pie chart\n",
    "    fig = go.Figure(data=[go.Pie(labels=names, values=values)], layout=layout)\n",
    "\n",
    "    fig = fig_counter.add_title(fig, fig_title, y_pos=-0.19)\n",
    "    \n",
    "    if PRODUCTION_PHASE:\n",
    "        img_file = os.path.join(img_dir, output_name+'.svg')\n",
    "        fig.write_image(img_file, scale=1)\n",
    "        display_image(img_file)\n",
    "    else:\n",
    "        fig.show()"
   ]
  },
  {
   "cell_type": "code",
   "execution_count": 23,
   "metadata": {},
   "outputs": [
    {
     "data": {
      "text/html": [
       "<div class=\"medium\"><img src=\"imgs/sample12345/pie_example.svg\" alt=\"image\"></div>\n"
      ],
      "text/plain": [
       "<IPython.core.display.HTML object>"
      ]
     },
     "metadata": {},
     "output_type": "display_data"
    }
   ],
   "source": [
    "names= ['2小时','4小时','8小时']\n",
    "values= [0.2, 0.3, 0.5]\n",
    "fig_title = '本校学生锻炼时间分布情况'\n",
    "output_name= 'pie_example'\n",
    "piechart(names, values, fig_title, output_name)"
   ]
  },
  {
   "cell_type": "markdown",
   "metadata": {},
   "source": [
    "### 图表示例 - 较复杂的复合图"
   ]
  },
  {
   "cell_type": "markdown",
   "metadata": {},
   "source": [
    "有时一般的数据图表无法满足直观和美观等要求，因此需要通过美术设计来制作比较复杂的图表。这里我们可以使用*svgutils*工具包对多个图片进行组合，以及添加图形、文字等元素，进一步丰富图片的内容。\n",
    "\n",
    "可参考下面这个例子制作图片。"
   ]
  },
  {
   "cell_type": "code",
   "execution_count": 24,
   "metadata": {},
   "outputs": [
    {
     "data": {
      "text/html": [
       "<div class=\"medium\"><img src=\"imgs/sample12345/general_report_final.svg\" alt=\"image\"></div>\n"
      ],
      "text/plain": [
       "<IPython.core.display.HTML object>"
      ]
     },
     "metadata": {},
     "output_type": "display_data"
    }
   ],
   "source": [
    "# general report\n",
    "general_score = 356\n",
    "general_percentage = 59\n",
    "grade_stage = [0, 10, 25, 75, 90]\n",
    "general_grade = np.sum(np.array(grade_stage)<general_percentage)  \n",
    "\n",
    "# plot pie\n",
    "rot = 0\n",
    "color_maps = ['rgb(255,187,26)', 'rgb(181,229,255)']\n",
    "label = ['超过','未超过']\n",
    "pie_value = [general_percentage, 100-general_percentage]\n",
    "sub_per = str(int(general_percentage))\n",
    "if general_percentage< 50:\n",
    "    rot = 360*general_percentage/100\n",
    "else:\n",
    "    rot = 0\n",
    "\n",
    "layout = go.Layout(\n",
    "    paper_bgcolor='rgba(0,0,0,0)',\n",
    "    plot_bgcolor='rgba(0,0,0,0)'\n",
    ")\n",
    "fig = go.Figure(data=[go.Pie(labels=label, \n",
    "                             values=pie_value,\n",
    "                             hole=.8,\n",
    "                             marker_colors=color_maps,\n",
    "                             textinfo='none',\n",
    "                             rotation = rot\n",
    "                             )],\n",
    "                layout=layout)\n",
    "fig.update_layout(showlegend=False,\n",
    "                  width=350,\n",
    "                  height=350,\n",
    "                 )\n",
    "img_file = os.path.join(img_dir, 'general_pie_tmp.svg')\n",
    "fig.write_image(img_file, scale=1)\n",
    "#display_image(img_file)\n",
    "\n",
    "heart_loc = [0, 93, 138, 183, 227, 274]\n",
    "# general plot\n",
    "compose_fig = sc.Figure(490, 150,\n",
    "                  sc.SVG(os.path.join(material_dir, 'score_background.svg')),\n",
    "                  sc.SVG(os.path.join(material_dir, 'xin3.svg')).scale(1.0).move(heart_loc[general_grade], 70),\n",
    "                  sc.SVG(os.path.join(img_dir, 'general_pie_tmp.svg')).scale(0.8).move(275, -70),\n",
    "                  sc.Text(str(int(general_percentage))+'%', 392, 120, size=20, font='PingFang SC', weight='bold', color='rgb(255, 187, 26)'),\n",
    "                  sc.Text(str(int(general_score)), 153, 57, size=25, font='PingFang SC', weight='bold', color='rgb(245, 73, 70)'),\n",
    "                  #sc.Grid(20, 20),\n",
    "                  )\n",
    "\n",
    "compose_fig = fig_counter.add_title(compose_fig, '一张合成的复杂图')\n",
    "\n",
    "# you can append this part into your code\n",
    "if PRODUCTION_PHASE:\n",
    "    compose_fig.save(os.path.join(img_dir, 'general_report_final.svg'))\n",
    "    display_image(os.path.join(img_dir, 'general_report_final.svg'))\n",
    "else:\n",
    "    display(compose_fig)\n"
   ]
  },
  {
   "cell_type": "markdown",
   "metadata": {},
   "source": [
    "## 生成PDF格式的报告文档"
   ]
  },
  {
   "cell_type": "markdown",
   "metadata": {},
   "source": [
    "在使用Jupyter Notebook完成报告内容后，可以使用**SmartyDoc**提供的处理流程，将ipynb格式的报告文本转换成PDF格式。"
   ]
  },
  {
   "cell_type": "markdown",
   "metadata": {},
   "source": [
    "### PDF文档转换流程"
   ]
  },
  {
   "cell_type": "markdown",
   "metadata": {},
   "source": [
    "在**SmartyDoc**的框架下，Jupyter Notebook的文档首先转换为html网页，之后配合css文件（即样式设计文件），转换为最终的PDF文件。"
   ]
  },
  {
   "cell_type": "markdown",
   "metadata": {},
   "source": [
    "### 需要准备哪些文件"
   ]
  },
  {
   "cell_type": "markdown",
   "metadata": {},
   "source": [
    "1. 编写好的Jupyter Notebook文件（ipynb文件）。\n",
    "\n",
    "2. ipynb文件转换为html文件时所需的转换模版，具体地，该文件保存于**SmartyDoc**目录下的`templates`目录内，您可以将该目录直接拷贝到与ipynb文件同级的目录内。用户不需要对`templates`目录下的文件做任何修改。\n",
    "\n",
    "3. css文件，用于描述文字、图片等内容的显示样式\n",
    "\n",
    "4. 文档内要插入的图片等文件"
   ]
  },
  {
   "cell_type": "markdown",
   "metadata": {},
   "source": [
    "### 使用printview2插件实现PDF文档生成"
   ]
  },
  {
   "cell_type": "markdown",
   "metadata": {},
   "source": [
    "为了方便用户在Jupyter的操作界面下方便地完成PDF文件生成的操作，我们专门开发了一个Jupyter的扩展插件**printview2**，为用户提供图形化的操作界面。用户可以在Jupyter的Nbextensions扩展管理页内，通过勾选框启用扩展。并在勾选框下方的页面设置PDF文件生成所需的参数。具体节目如下图。"
   ]
  },
  {
   "cell_type": "code",
   "execution_count": 25,
   "metadata": {},
   "outputs": [
    {
     "data": {
      "text/html": [
       "<div class=\"medium\"><img src=\"imgs/common/jupyter_printview2_config.png\" alt=\"image\"></div>\n"
      ],
      "text/plain": [
       "<IPython.core.display.HTML object>"
      ]
     },
     "metadata": {},
     "output_type": "display_data"
    }
   ],
   "source": [
    "display_image(os.path.join(material_dir, 'jupyter_printview2_config.png'))"
   ]
  },
  {
   "cell_type": "markdown",
   "metadata": {},
   "source": [
    "在准备好格式转换所需的文件后，根据要生成的PDF文件的样式，对**printview2**的参数进行设置，具体包括：\n",
    "\n",
    "1. `add index before headings`：若勾选此项，则系统会自动在章节名前面加上`1.`、`2.`、`2.1`这样的序列号；\n",
    "\n",
    "2. `the document has a foreword section before TOC`：若勾选此项，则正文第一个`h2`所包含的内容会以*前言*的形势出现在目录之前，且该部分内容不计入页码；\n",
    "\n",
    "3. `maximum level of nested sections to display on the TOC`：在目录中要呈现的目录级别，如果设置为`1`，则只显示`h2`所表示的章名；\n",
    "\n",
    "4. `display an article before each article, or not`：对各章的起始页样式进行设置，具体包括三种形式，分别为`none`、`toc`和`intro`，`none`表示章节首页不做特殊处理，`toc`表示章节首页包含章名和该章内的二级标题列表，`intro`表示章节首页包含章名和该章的内容简介。内容简介部分须在正文中以标签`<article_summary></article_summary>`括起来；\n",
    "\n",
    "5. `nbconvert options`：ipynb文件转换为html文件时的参数设置，一般不需要用户做修改；\n",
    "\n",
    "6. `open a new tab in the brower to display nbconvert output`：做格式转换完成后自动在浏览器打开一个新的标签页进行显示，Chrome浏览器查看PDF文件会出现问题，请直接下载文件查看转换结果；\n",
    "\n",
    "7. `export to pdf format`：若勾选此项，生成PDF文件，否则只生成html网页文件。"
   ]
  },
  {
   "cell_type": "markdown",
   "metadata": {},
   "source": [
    "完成以上设置后，在浏览器中切换到要进行格式转换的notebook的页面（注意：如果该页面在上述设置前已经打开，请对该页面进行刷新，以更新参数），点击工具栏中的打印图标，自动开始文件格式转换。"
   ]
  },
  {
   "cell_type": "markdown",
   "metadata": {},
   "source": [
    "### 使用命令行操作实现PDF文档生成"
   ]
  },
  {
   "cell_type": "markdown",
   "metadata": {},
   "source": [
    "待补充，敬请期待 ..."
   ]
  },
  {
   "cell_type": "code",
   "execution_count": null,
   "metadata": {},
   "outputs": [],
   "source": []
  }
 ],
 "metadata": {
  "hide_input": false,
  "kernelspec": {
   "display_name": "Python 3",
   "language": "python",
   "name": "python3"
  },
  "language_info": {
   "codemirror_mode": {
    "name": "ipython",
    "version": 3
   },
   "file_extension": ".py",
   "mimetype": "text/x-python",
   "name": "python",
   "nbconvert_exporter": "python",
   "pygments_lexer": "ipython3",
   "version": "3.6.5"
  },
  "toc": {
   "base_numbering": 1,
   "nav_menu": {},
   "number_sections": true,
   "sideBar": true,
   "skip_h1_title": true,
   "title_cell": "目录",
   "title_sidebar": "Contents",
   "toc_cell": false,
   "toc_position": {},
   "toc_section_display": true,
   "toc_window_display": true
  },
  "varInspector": {
   "cols": {
    "lenName": 16,
    "lenType": 16,
    "lenVar": 40
   },
   "kernels_config": {
    "python": {
     "delete_cmd_postfix": "",
     "delete_cmd_prefix": "del ",
     "library": "var_list.py",
     "varRefreshCmd": "print(var_dic_list())"
    },
    "r": {
     "delete_cmd_postfix": ") ",
     "delete_cmd_prefix": "rm(",
     "library": "var_list.r",
     "varRefreshCmd": "cat(var_dic_list()) "
    }
   },
   "types_to_exclude": [
    "module",
    "function",
    "builtin_function_or_method",
    "instance",
    "_Feature"
   ],
   "window_display": false
  }
 },
 "nbformat": 4,
 "nbformat_minor": 2
}
