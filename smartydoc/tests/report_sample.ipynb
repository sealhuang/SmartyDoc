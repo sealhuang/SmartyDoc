{
 "cells": [
  {
   "cell_type": "code",
   "execution_count": 1,
   "metadata": {},
   "outputs": [],
   "source": [
    "%matplotlib inline\n",
    "import os\n",
    "import numpy\n",
    "import matplotlib.pyplot as plt\n",
    "import seaborn as sns\n",
    "import plotly.graph_objects as go\n",
    "from IPython.core.display import SVG"
   ]
  },
  {
   "cell_type": "code",
   "execution_count": 2,
   "metadata": {},
   "outputs": [],
   "source": [
    "def gen_cover(cover_cfg):\n",
    "    html_content = ['<h1 id=\"cover\">%s</h1>'%(cover_cfg['main_cn']),\n",
    "                    '<address>%s</address>'%(cover_cfg['company']),\n",
    "                    '<address>%s</address>'%(cover_cfg['date']),\n",
    "                   ]\n",
    "    return '\\n'.join(html_content)"
   ]
  },
  {
   "cell_type": "code",
   "execution_count": 3,
   "metadata": {},
   "outputs": [
    {
     "name": "stdout",
     "output_type": "stream",
     "text": [
      "<h1 id=\"cover\">CAPE教育评价测评<br>学校报告</h1>\n",
      "<address>本本教育（北京）科技有限公司</address>\n",
      "<address>2019年4月</address>\n"
     ]
    }
   ],
   "source": [
    "# cover config\n",
    "cover_cfg = {'main_cn': 'CAPE教育评价测评<br>学校报告',\n",
    "             'main_en': 'School Report<br>on Educational Assessment and Evaluation',\n",
    "             'sub_cn': '辽宁省沈阳市第一中学',\n",
    "             'company': '本本教育（北京）科技有限公司',\n",
    "             'date': '2019年4月',\n",
    "            }\n",
    "print(gen_cover(cover_cfg))"
   ]
  },
  {
   "cell_type": "markdown",
   "metadata": {},
   "source": [
    "## 前言"
   ]
  },
  {
   "cell_type": "markdown",
   "metadata": {},
   "source": [
    "教育评价是教育教学的指挥棒，也是教育教学改革的关键。学校在组织教学和培养学生的过程中，需要不断收到“学生应该学习什么”以及“学到什么程度”的反馈，以便阶段性验证办学思路和教学改革的效果，针对性调整课程设置和教学策略，以及优化组织管理的制度和流程，从而持续提高办学质量，促进教育公平。世界范围内，如联合国科教文组织、经济与合作组织等机构通过大型国际间的教育质量监测，来为各国的教育政策的制定、效果的评估、改革的方向提供数据参考。国家层面，比如美国、新加坡等教育发达国家纷纷开始了21世界核心素养项目，并借助国际、国内的各种教育监测手段随时调整和优化方向。2013年，我国也发布了《中小学教育质量综合评价框架(试行)》，2019年初，中共中央、国务院发布《中国教育现代化2035》中长期战略规划，把“构建教育质量评估监测机制，建立更加科学公正的考试评价制度、建立全过程、全方位人才培养质量反馈监控体系”作为发展优质教育的重要手段。教育质量的提升不仅需要国家和地区层面建立正式的教育监测和评估系统，学校内部也需要建立自己的质量评估指标体系和测量反馈体系，多角度收集和挖掘教学过程和教育结果的数据，高效、及时地为学校管理者和一线教师提供决策依据。\n",
    "\n",
    "随着我国教育改革进程的推进，越来越多的学校在自己的组织系统中加入了教育评价的专门职能，他们向上承接国家或地区的监测任务，及时跟进监测结果调整教学方针和策略;同时，结合本校办学理念和特色，创建符合本校学生特点和培养模式的自我监测系统，多方位保障教育质量的落实。在很大一部分学校还在摸索从“唯分数论”向综合育人模式转变的大环境下，他们敏锐地意识到教育评价对教学反馈和改进的重要性，他们是时代的先锋，也是“办有质量的教育”、“办人民满意的教育”的真正践行者。\n",
    "\n",
    "习近平总书记在全国教育大会上强调，要培养德智体美劳全面发展的社会主义建设者和接班人。本本教育由北京师范大学教育学和心理学教授及其心理测评专业团队创建，专注于教育测评领域，致力于运用最先进的心理和教育测评理念及技术，为基础教育和高中阶段的青少年儿童提供全方位的心理与认知测评。参考国际教育监测和评估的框架及指标，根据我国《中小学教育质量综合评价框架(试行)》(2013)，我们历时三年构建了品德、学业、身心、志趣发展的四维测评框架体系和具体测量工具，并收集了累计20多万学生的测评结果和数据，从均衡性、多元化、卓越性以及公平性等多个指标衡量学校的管理和教育水平，力图在全国、全省、全市的不同时空分布中，让学校管理者清晰地看到本校的现状、特色和发展方向，并在此基础上进一步帮助管理者提高学校教育管理和制度的质量、效能和效率，助力管理者打造适应新时代教育发展的未来学校。\n",
    "\n",
    "刘嘉 北京师范大学心理学部教授<br>\n",
    "教育部长江学者"
   ]
  },
  {
   "cell_type": "markdown",
   "metadata": {},
   "source": [
    "## 学校可以从CAPE中收获什么"
   ]
  },
  {
   "cell_type": "markdown",
   "metadata": {},
   "source": [
    "CAPE(Chinese Assessment on Progress in Education)，是本本教育专门为 K12 基础教育阶段开发的教育评估和测评项目。该项目旨在建立学校基准、 帮助改善学校教学质量，为校际比较提供地市、省份和全国层面的总体结果，并为各级教育主管部门的政策落实和推进提供数据支持。\n",
    "\n",
    "CAPE 项目分为两个子项目，分别针对小学阶段 4-5 年级和初高中阶段 9-10 年级的在校儿童，从品德、心理发展、身体健康、思维和基础学习能力等角度为儿童的综合素质评价和干预提供量化指标和结果。\n",
    "\n",
    "通过 CAPE 项目，学校可以获得:\n",
    "\n",
    "- CAPE 的评估框架及测评内容紧贴国家的教育改革方向和质量监测政策，可以帮助学校快速且准确地把握政策导向，找到迈向未来学校教育的高速通道。\n",
    "- 多角度、多层次的学校分析数据，可以帮助管理者在应对教育转型的各种挑战中，提高决策的准确性，避免决策失误带来的负面影响。\n",
    "- 提升和开阔管理者的视野，把学校放在更大尺度的时空中进行比较，在全省、全市范围内看清自己的优势、定位和发展方向。"
   ]
  },
  {
   "cell_type": "markdown",
   "metadata": {},
   "source": [
    "## 阅读指南"
   ]
  },
  {
   "cell_type": "markdown",
   "metadata": {},
   "source": [
    "### 学校信息和数据来源\n",
    "\n",
    "本次评估覆盖全省14个地市，共有来自287所中学的14多万高一学生参与测评，预计占全省所有高一学生的80%左右。参测学生均在学校的组织下，全省统一在2018年12月28日完成了纸质版《高中生学业能力倾向测验》、《高中生学科学习态度量表》以及《高中生专业兴趣倾向测验》。各个学校的测验组织严格按照全省统一的操作实施流程。学生答题时间为2小时。\n",
    "\n",
    "### 关于意义比较中一些统计术语的说明\n",
    "\n",
    "报告中需要用到一些统计术语来表达测试结果的一些数据特征，包括:\n",
    "\n",
    "- 平均值：代表数据的集中程度，如某校学生的整体能力均值;\n",
    "\n",
    "- 标准差：代表数据的离散或差异程度。例如，标准差大，代表一所学校的所有学生的能力和这所学校的整体能力均值之间的差异大，反之，代表大部分学生的能力和学校的整体平均值之间差异较小。在衡量一所学校的优等生和后进生之间的差距、不同学科之间发展水平的差距等指标时常常用到这一统计量。\n",
    "\n",
    "- 显著性差异:某些情况下，当我们进行两两比较或影响因素分析时，需要更确切地知道这种差异是否足够大到必须加以重视和行动。例如，在计算社会经济地位对学生能力的影响程度时，当影响达到显著程度时，学校管理者有必要将该事项作为接下来的工作重点内容。\n",
    "\n",
    "除了以上提到的几个基本统计术语，本报告在各个层面上从多个角度对测 评结果进行了分析和挖掘，在呈现结果时，尽量将结果背后的含义呈现出来，例如，在讨论学生的人文素养和科学素养发展的均衡性问题时，我们会将复杂计算转化成简单的呈现方式，以“偏文”、“综合”、“偏理”的定性描述，帮助管理者解读本校的数据结果。\n",
    "\n",
    "### 如何让评估报告真正服务于学校管理\n",
    "\n",
    "很多学校拿到报告后都会问:“怎样让评估的数据和结论变成我的工作计划?”。一些成功的学校管理者通常会遵循以下几个策略:\n",
    "\n",
    "1. 关注数据背后的含义和数据之间的关联，从大数据背后思索教育、教学的基本规律，例如：学校管理所处的发展阶段越高，学生的能力水平越高且学生之间的差异越小。\n",
    "\n",
    "2. 把数据和本校的实际情况相结合，思考是什么原因或哪些因素导致现在这样的结果，而不是关注得分的高低。学习结果受到很多种因素的影响，管理者需要在错综复杂的因素中找到关键点，加以改进和突破。\n",
    "\n",
    "3. 进行管理的跨界思考和讨论。学校管理虽然有特殊之处，但其本质上是通过组织管理手段让你的员工，也就是教师，积极投入到工作之中，从而让你的客户，也就是学生，满意于你提供的教学并使其具备适应未来社会的能力。\n",
    "\n",
    "4. 和你的管理及教学团队共同讨论报告，倾听他们对数据结果的理解和分析。当大家对问题的认识达成一致时，更容易形成解决方案，也更容易贯彻执行。\n",
    "\n",
    "5. 评估报告中会提及很多不同的方面，本校在一个评估周期内可能也会发现有多个需要关注的问题，但在落实到工作计划时，需要根据轻重缓急在一个时间段中重点解决一至两个问题。\n",
    "\n",
    "6. 外部评估最大的价值在于可以在更大的时空分布内看到自己。成功的学校管理者还会注意收集内部的数据信息，结合外部评估的数据一起进行分析。内部数据的加入，可以让外部评估报告更加落地，也更加有利于管理者制定具体的工作计划。\n",
    "\n",
    "### 报告使用过程中的注意事项\n",
    "\n",
    "在本报告的阅读和使用过程中，还有一些事项需要管理者注意，避免因为对报告结果的误解或误用而产生不利影响:\n",
    "\n",
    "1. 关于排名，本报告中的所有排名都是基于所有参加测试的287所学校进行的，实际上，从管理角度来讲，组织的规模大小影响着管理的复杂度，如果你是一所一个年级有1000多名学校的校长，和一所学校一个年级只有50多人的校长相比，可能会面临完全不同的管理问题。所以，排名只是近似反映了某一方面的情况，但绝不是全部。\n",
    "\n",
    "2. 所有的测试虽然都是在学生层面进行的，但其反应的都是学校的管理状态，也间接反映学校所在地的经济发展水平和文化氛围。管理者要清晰地意识到这一点，而不是首先将学生和教师放为第一责任人。\n",
    "\n",
    "3. 关于学生的具体得分，我们会在报告附录里列出那些卓越的学生以及预警的问题学生，但那不意味着处于中间的学生不值得关注，恰恰相反，以往很多研究和事实也证明，处于中间的这些学生是最具有可塑性的，也就是说，他们在适当的环境和激励下有很大的可能性走向卓越。\n",
    "\n",
    "4. 关于学科优势和均衡发展，有些学校可能会困惑：到底应该突出特色、发展优势学科，还是应该各科均衡发展？这里，我们强调的是建立在公平发展基础上的优势，而不是刻意而为之的“优势”。有些学校为了突出某个学科特色，在课时安排、教师引进、资源配置等方面大幅度倾斜，这种特色是以牺牲了其他学科的发展和学生的自由选择权为代价的，有违教育公平的原则。"
   ]
  },
  {
   "cell_type": "markdown",
   "metadata": {},
   "source": [
    "## 本校的主要评估结果"
   ]
  },
  {
   "cell_type": "markdown",
   "metadata": {},
   "source": [
    "### 基本参测情况"
   ]
  },
  {
   "cell_type": "code",
   "execution_count": 4,
   "metadata": {},
   "outputs": [
    {
     "data": {
      "image/svg+xml": [
       "<svg class=\"main-svg\" height=\"372\" viewBox=\"0 0 700 310\" width=\"840\" xmlns=\"http://www.w3.org/2000/svg\" xmlns:xlink=\"http://www.w3.org/1999/xlink\"><rect height=\"310\" style=\"fill: rgb(255, 255, 255); fill-opacity: 1;\" width=\"700\" x=\"0\" y=\"0\"/><defs id=\"defs-1d417b\"><g class=\"clips\"/><g class=\"gradients\"/></defs><g class=\"bglayer\"/><g class=\"layer-below\"><g class=\"imagelayer\"/><g class=\"shapelayer\"/></g><g class=\"cartesianlayer\"/><g class=\"polarlayer\"/><g class=\"ternarylayer\"/><g class=\"geolayer\"/><g class=\"funnelarealayer\"/><g class=\"pielayer\"/><g class=\"sunburstlayer\"/><g class=\"glimages\"/><g class=\"table\" height=\"310\" overflow=\"visible\" style=\"box-sizing: content-box; position: absolute; left: 0px; overflow: visible; shape-rendering: crispEdges; pointer-events: all;\" transform=\"translate(0,0)\" width=\"700\"><g class=\"table-control-view\" clip-path=\"url('#clip1d417b_scrollAreaBottomClip_d440d1true')\" style=\"box-sizing: content-box;\" transform=\"translate(80 100)\"><rect class=\"scroll-background\" fill=\"none\" height=\"130\" width=\"540\"/><g class=\"y-column\" clip-path=\"url('#clip1d417b_columnBoundaryClippath_d440d1true_0')\" transform=\"translate(0 0)\"><g class=\"column-block\" id=\"cells1\" style=\"cursor: default;\" transform=\"translate(0 0)\"><g class=\"column-cells\"><g class=\"column-cell\" transform=\"translate(0 31)\"><rect class=\"cell-rect\" height=\"30\" stroke-width=\"1\" style=\"stroke: rgb(47, 79, 79); stroke-opacity: 1; fill: rgb(224, 255, 255); fill-opacity: 1;\" width=\"108\"/><g class=\"cell-text-holder\" style=\"shape-rendering: geometricPrecision;\" text-anchor=\"start\" transform=\"translate(8 8)\"><text class=\"cell-text\" dy=\"0.75em\" style=\"cursor: auto; font-family: 'Open Sans', verdana, arial, sans-serif; font-size: 12px; fill: rgb(42, 63, 95); fill-opacity: 1;\">A学校</text></g></g><g class=\"column-cell\" transform=\"translate(0 61)\"><rect class=\"cell-rect\" height=\"30\" stroke-width=\"1\" style=\"stroke: rgb(47, 79, 79); stroke-opacity: 1; fill: rgb(224, 255, 255); fill-opacity: 1;\" width=\"108\"/><g class=\"cell-text-holder\" style=\"shape-rendering: geometricPrecision;\" text-anchor=\"start\" transform=\"translate(8 8)\"><text class=\"cell-text\" dy=\"0.75em\" style=\"cursor: auto; font-family: 'Open Sans', verdana, arial, sans-serif; font-size: 12px; fill: rgb(42, 63, 95); fill-opacity: 1;\">B学校</text></g></g><g class=\"column-cell\" transform=\"translate(0 91)\"><rect class=\"cell-rect\" height=\"30\" stroke-width=\"1\" style=\"stroke: rgb(47, 79, 79); stroke-opacity: 1; fill: rgb(224, 255, 255); fill-opacity: 1;\" width=\"108\"/><g class=\"cell-text-holder\" style=\"shape-rendering: geometricPrecision;\" text-anchor=\"start\" transform=\"translate(8 8)\"><text class=\"cell-text\" dy=\"0.75em\" style=\"cursor: auto; font-family: 'Open Sans', verdana, arial, sans-serif; font-size: 12px; fill: rgb(42, 63, 95); fill-opacity: 1;\">C学校</text></g></g></g></g><g class=\"column-block\" id=\"cells2\" style=\"cursor: default;\" transform=\"translate(0 0)\"><g class=\"column-cells\"/></g><g class=\"column-block\" id=\"header\" style=\"cursor: ew-resize;\"><g class=\"column-cells\"><g class=\"column-cell\" transform=\"translate(0 0)\"><rect class=\"cell-rect\" height=\"31\" stroke-width=\"1\" style=\"stroke: rgb(47, 79, 79); stroke-opacity: 1; fill: rgb(135, 206, 250); fill-opacity: 1;\" width=\"108\"/><g class=\"cell-text-holder\" style=\"shape-rendering: geometricPrecision;\" transform=\"translate(30 20)\"><text class=\"cell-text\" dy=\"0\" style=\"cursor: auto; font-family: 'Open Sans', verdana, arial, sans-serif; font-size: 12px; fill: rgb(255, 255, 255); fill-opacity: 1; white-space: pre;\" x=\"0\" y=\"0\"><tspan style=\"font-weight:bold\">学校名称</tspan></text></g></g></g></g><g class=\"column-boundary\"/><clipPath class=\"column-boundary-clippath\" id=\"clip1d417b_columnBoundaryClippath_d440d1true_0\"><rect class=\"column-boundary-rect\" fill=\"none\" height=\"137\" width=\"110\" x=\"-1\" y=\"-1\"/></clipPath></g><g class=\"y-column\" clip-path=\"url('#clip1d417b_columnBoundaryClippath_d440d1true_1')\" transform=\"translate(108 0)\"><g class=\"column-block\" id=\"cells1\" style=\"cursor: default;\" transform=\"translate(0 0)\"><g class=\"column-cells\"><g class=\"column-cell\" transform=\"translate(0 31)\"><rect class=\"cell-rect\" height=\"30\" stroke-width=\"1\" style=\"stroke: rgb(47, 79, 79); stroke-opacity: 1; fill: rgb(224, 255, 255); fill-opacity: 1;\" width=\"108\"/><g class=\"cell-text-holder\" style=\"shape-rendering: geometricPrecision;\" text-anchor=\"start\" transform=\"translate(8 8)\"><text class=\"cell-text\" dy=\"0.75em\" style=\"cursor: auto; font-family: 'Open Sans', verdana, arial, sans-serif; font-size: 12px; fill: rgb(42, 63, 95); fill-opacity: 1;\">100人</text></g></g><g class=\"column-cell\" transform=\"translate(0 61)\"><rect class=\"cell-rect\" height=\"30\" stroke-width=\"1\" style=\"stroke: rgb(47, 79, 79); stroke-opacity: 1; fill: rgb(224, 255, 255); fill-opacity: 1;\" width=\"108\"/><g class=\"cell-text-holder\" style=\"shape-rendering: geometricPrecision;\" text-anchor=\"start\" transform=\"translate(8 8)\"><text class=\"cell-text\" dy=\"0.75em\" style=\"cursor: auto; font-family: 'Open Sans', verdana, arial, sans-serif; font-size: 12px; fill: rgb(42, 63, 95); fill-opacity: 1;\">90人</text></g></g><g class=\"column-cell\" transform=\"translate(0 91)\"><rect class=\"cell-rect\" height=\"30\" stroke-width=\"1\" style=\"stroke: rgb(47, 79, 79); stroke-opacity: 1; fill: rgb(224, 255, 255); fill-opacity: 1;\" width=\"108\"/><g class=\"cell-text-holder\" style=\"shape-rendering: geometricPrecision;\" text-anchor=\"start\" transform=\"translate(8 8)\"><text class=\"cell-text\" dy=\"0.75em\" style=\"cursor: auto; font-family: 'Open Sans', verdana, arial, sans-serif; font-size: 12px; fill: rgb(42, 63, 95); fill-opacity: 1;\">80人</text></g></g></g></g><g class=\"column-block\" id=\"cells2\" style=\"cursor: default;\" transform=\"translate(0 0)\"><g class=\"column-cells\"/></g><g class=\"column-block\" id=\"header\" style=\"cursor: ew-resize;\"><g class=\"column-cells\"><g class=\"column-cell\" transform=\"translate(0 0)\"><rect class=\"cell-rect\" height=\"31\" stroke-width=\"1\" style=\"stroke: rgb(47, 79, 79); stroke-opacity: 1; fill: rgb(135, 206, 250); fill-opacity: 1;\" width=\"108\"/><g class=\"cell-text-holder\" style=\"shape-rendering: geometricPrecision;\" transform=\"translate(36 20)\"><text class=\"cell-text\" dy=\"0\" style=\"cursor: auto; font-family: 'Open Sans', verdana, arial, sans-serif; font-size: 12px; fill: rgb(255, 255, 255); fill-opacity: 1; white-space: pre;\" x=\"0\" y=\"0\"><tspan style=\"font-weight:bold\">总人数</tspan></text></g></g></g></g><g class=\"column-boundary\"/><clipPath class=\"column-boundary-clippath\" id=\"clip1d417b_columnBoundaryClippath_d440d1true_1\"><rect class=\"column-boundary-rect\" fill=\"none\" height=\"137\" width=\"110\" x=\"-1\" y=\"-1\"/></clipPath></g><g class=\"y-column\" clip-path=\"url('#clip1d417b_columnBoundaryClippath_d440d1true_2')\" transform=\"translate(216 0)\"><g class=\"column-block\" id=\"cells1\" style=\"cursor: default;\" transform=\"translate(0 0)\"><g class=\"column-cells\"><g class=\"column-cell\" transform=\"translate(0 31)\"><rect class=\"cell-rect\" height=\"30\" stroke-width=\"1\" style=\"stroke: rgb(47, 79, 79); stroke-opacity: 1; fill: rgb(224, 255, 255); fill-opacity: 1;\" width=\"108\"/><g class=\"cell-text-holder\" style=\"shape-rendering: geometricPrecision;\" text-anchor=\"start\" transform=\"translate(8 8)\"><text class=\"cell-text\" dy=\"0.75em\" style=\"cursor: auto; font-family: 'Open Sans', verdana, arial, sans-serif; font-size: 12px; fill: rgb(42, 63, 95); fill-opacity: 1;\">60人</text></g></g><g class=\"column-cell\" transform=\"translate(0 61)\"><rect class=\"cell-rect\" height=\"30\" stroke-width=\"1\" style=\"stroke: rgb(47, 79, 79); stroke-opacity: 1; fill: rgb(224, 255, 255); fill-opacity: 1;\" width=\"108\"/><g class=\"cell-text-holder\" style=\"shape-rendering: geometricPrecision;\" text-anchor=\"start\" transform=\"translate(8 8)\"><text class=\"cell-text\" dy=\"0.75em\" style=\"cursor: auto; font-family: 'Open Sans', verdana, arial, sans-serif; font-size: 12px; fill: rgb(42, 63, 95); fill-opacity: 1;\">30人</text></g></g><g class=\"column-cell\" transform=\"translate(0 91)\"><rect class=\"cell-rect\" height=\"30\" stroke-width=\"1\" style=\"stroke: rgb(47, 79, 79); stroke-opacity: 1; fill: rgb(224, 255, 255); fill-opacity: 1;\" width=\"108\"/><g class=\"cell-text-holder\" style=\"shape-rendering: geometricPrecision;\" text-anchor=\"start\" transform=\"translate(8 8)\"><text class=\"cell-text\" dy=\"0.75em\" style=\"cursor: auto; font-family: 'Open Sans', verdana, arial, sans-serif; font-size: 12px; fill: rgb(42, 63, 95); fill-opacity: 1;\">70人</text></g></g></g></g><g class=\"column-block\" id=\"cells2\" style=\"cursor: default;\" transform=\"translate(0 0)\"><g class=\"column-cells\"/></g><g class=\"column-block\" id=\"header\" style=\"cursor: ew-resize;\"><g class=\"column-cells\"><g class=\"column-cell\" transform=\"translate(0 0)\"><rect class=\"cell-rect\" height=\"31\" stroke-width=\"1\" style=\"stroke: rgb(47, 79, 79); stroke-opacity: 1; fill: rgb(135, 206, 250); fill-opacity: 1;\" width=\"108\"/><g class=\"cell-text-holder\" style=\"shape-rendering: geometricPrecision;\" transform=\"translate(42 20)\"><text class=\"cell-text\" dy=\"0\" style=\"cursor: auto; font-family: 'Open Sans', verdana, arial, sans-serif; font-size: 12px; fill: rgb(255, 255, 255); fill-opacity: 1; white-space: pre;\" x=\"0\" y=\"0\"><tspan style=\"font-weight:bold\">男生</tspan></text></g></g></g></g><g class=\"column-boundary\"/><clipPath class=\"column-boundary-clippath\" id=\"clip1d417b_columnBoundaryClippath_d440d1true_2\"><rect class=\"column-boundary-rect\" fill=\"none\" height=\"137\" width=\"110\" x=\"-1\" y=\"-1\"/></clipPath></g><g class=\"y-column\" clip-path=\"url('#clip1d417b_columnBoundaryClippath_d440d1true_3')\" transform=\"translate(324 0)\"><g class=\"column-block\" id=\"cells1\" style=\"cursor: default;\" transform=\"translate(0 0)\"><g class=\"column-cells\"><g class=\"column-cell\" transform=\"translate(0 31)\"><rect class=\"cell-rect\" height=\"30\" stroke-width=\"1\" style=\"stroke: rgb(47, 79, 79); stroke-opacity: 1; fill: rgb(224, 255, 255); fill-opacity: 1;\" width=\"108\"/><g class=\"cell-text-holder\" style=\"shape-rendering: geometricPrecision;\" text-anchor=\"start\" transform=\"translate(8 8)\"><text class=\"cell-text\" dy=\"0.75em\" style=\"cursor: auto; font-family: 'Open Sans', verdana, arial, sans-serif; font-size: 12px; fill: rgb(42, 63, 95); fill-opacity: 1;\">40人</text></g></g><g class=\"column-cell\" transform=\"translate(0 61)\"><rect class=\"cell-rect\" height=\"30\" stroke-width=\"1\" style=\"stroke: rgb(47, 79, 79); stroke-opacity: 1; fill: rgb(224, 255, 255); fill-opacity: 1;\" width=\"108\"/><g class=\"cell-text-holder\" style=\"shape-rendering: geometricPrecision;\" text-anchor=\"start\" transform=\"translate(8 8)\"><text class=\"cell-text\" dy=\"0.75em\" style=\"cursor: auto; font-family: 'Open Sans', verdana, arial, sans-serif; font-size: 12px; fill: rgb(42, 63, 95); fill-opacity: 1;\">60人</text></g></g><g class=\"column-cell\" transform=\"translate(0 91)\"><rect class=\"cell-rect\" height=\"30\" stroke-width=\"1\" style=\"stroke: rgb(47, 79, 79); stroke-opacity: 1; fill: rgb(224, 255, 255); fill-opacity: 1;\" width=\"108\"/><g class=\"cell-text-holder\" style=\"shape-rendering: geometricPrecision;\" text-anchor=\"start\" transform=\"translate(8 8)\"><text class=\"cell-text\" dy=\"0.75em\" style=\"cursor: auto; font-family: 'Open Sans', verdana, arial, sans-serif; font-size: 12px; fill: rgb(42, 63, 95); fill-opacity: 1;\">10人</text></g></g></g></g><g class=\"column-block\" id=\"cells2\" style=\"cursor: default;\" transform=\"translate(0 0)\"><g class=\"column-cells\"/></g><g class=\"column-block\" id=\"header\" style=\"cursor: ew-resize;\"><g class=\"column-cells\"><g class=\"column-cell\" transform=\"translate(0 0)\"><rect class=\"cell-rect\" height=\"31\" stroke-width=\"1\" style=\"stroke: rgb(47, 79, 79); stroke-opacity: 1; fill: rgb(135, 206, 250); fill-opacity: 1;\" width=\"108\"/><g class=\"cell-text-holder\" style=\"shape-rendering: geometricPrecision;\" transform=\"translate(42 20)\"><text class=\"cell-text\" dy=\"0\" style=\"cursor: auto; font-family: 'Open Sans', verdana, arial, sans-serif; font-size: 12px; fill: rgb(255, 255, 255); fill-opacity: 1; white-space: pre;\" x=\"0\" y=\"0\"><tspan style=\"font-weight:bold\">女生</tspan></text></g></g></g></g><g class=\"column-boundary\"/><clipPath class=\"column-boundary-clippath\" id=\"clip1d417b_columnBoundaryClippath_d440d1true_3\"><rect class=\"column-boundary-rect\" fill=\"none\" height=\"137\" width=\"110\" x=\"-1\" y=\"-1\"/></clipPath></g><g class=\"y-column\" clip-path=\"url('#clip1d417b_columnBoundaryClippath_d440d1true_4')\" transform=\"translate(432 0)\"><g class=\"column-block\" id=\"cells1\" style=\"cursor: default;\" transform=\"translate(0 0)\"><g class=\"column-cells\"><g class=\"column-cell\" transform=\"translate(0 31)\"><rect class=\"cell-rect\" height=\"30\" stroke-width=\"1\" style=\"stroke: rgb(47, 79, 79); stroke-opacity: 1; fill: rgb(224, 255, 255); fill-opacity: 1;\" width=\"108\"/><g class=\"cell-text-holder\" style=\"shape-rendering: geometricPrecision;\" text-anchor=\"start\" transform=\"translate(8 8)\"><text class=\"cell-text\" dy=\"0.75em\" style=\"cursor: auto; font-family: 'Open Sans', verdana, arial, sans-serif; font-size: 12px; fill: rgb(42, 63, 95); fill-opacity: 1;\">10</text></g></g><g class=\"column-cell\" transform=\"translate(0 61)\"><rect class=\"cell-rect\" height=\"30\" stroke-width=\"1\" style=\"stroke: rgb(47, 79, 79); stroke-opacity: 1; fill: rgb(224, 255, 255); fill-opacity: 1;\" width=\"108\"/><g class=\"cell-text-holder\" style=\"shape-rendering: geometricPrecision;\" text-anchor=\"start\" transform=\"translate(8 8)\"><text class=\"cell-text\" dy=\"0.75em\" style=\"cursor: auto; font-family: 'Open Sans', verdana, arial, sans-serif; font-size: 12px; fill: rgb(42, 63, 95); fill-opacity: 1;\">15</text></g></g><g class=\"column-cell\" transform=\"translate(0 91)\"><rect class=\"cell-rect\" height=\"30\" stroke-width=\"1\" style=\"stroke: rgb(47, 79, 79); stroke-opacity: 1; fill: rgb(224, 255, 255); fill-opacity: 1;\" width=\"108\"/><g class=\"cell-text-holder\" style=\"shape-rendering: geometricPrecision;\" text-anchor=\"start\" transform=\"translate(8 8)\"><text class=\"cell-text\" dy=\"0.75em\" style=\"cursor: auto; font-family: 'Open Sans', verdana, arial, sans-serif; font-size: 12px; fill: rgb(42, 63, 95); fill-opacity: 1;\">6</text></g></g></g></g><g class=\"column-block\" id=\"cells2\" style=\"cursor: default;\" transform=\"translate(0 0)\"><g class=\"column-cells\"/></g><g class=\"column-block\" id=\"header\" style=\"cursor: ew-resize;\"><g class=\"column-cells\"><g class=\"column-cell\" transform=\"translate(0 0)\"><rect class=\"cell-rect\" height=\"31\" stroke-width=\"1\" style=\"stroke: rgb(47, 79, 79); stroke-opacity: 1; fill: rgb(135, 206, 250); fill-opacity: 1;\" width=\"108\"/><g class=\"cell-text-holder\" style=\"shape-rendering: geometricPrecision;\" transform=\"translate(36 20)\"><text class=\"cell-text\" dy=\"0\" style=\"cursor: auto; font-family: 'Open Sans', verdana, arial, sans-serif; font-size: 12px; fill: rgb(255, 255, 255); fill-opacity: 1; white-space: pre;\" x=\"0\" y=\"0\"><tspan style=\"font-weight:bold\">班级数</tspan></text></g></g></g></g><g class=\"column-boundary\"/><clipPath class=\"column-boundary-clippath\" id=\"clip1d417b_columnBoundaryClippath_d440d1true_4\"><rect class=\"column-boundary-rect\" fill=\"none\" height=\"137\" width=\"110\" x=\"-1\" y=\"-1\"/></clipPath></g><g class=\"scrollbar-kit\" style=\"shape-rendering: geometricPrecision;\" transform=\"translate(549 31)\"><g class=\"scrollbar\"><g class=\"scrollbar-slider\" transform=\"translate(0 0)\"/></g></g><clipPath class=\"scroll-area-clip\" id=\"clip1d417b_scrollAreaBottomClip_d440d1true\"><rect class=\"scroll-area-clip-rect\" fill=\"none\" height=\"135\" width=\"630\" x=\"-45\" y=\"-5\"/></clipPath></g></g><defs id=\"topdefs-1d417b\"><g class=\"clips\"/></defs><g class=\"layer-above\"><g class=\"imagelayer\"/><g class=\"shapelayer\"/></g><g class=\"infolayer\"><g class=\"g-gtitle\"/></g></svg>"
      ],
      "text/plain": [
       "<IPython.core.display.SVG object>"
      ]
     },
     "execution_count": 4,
     "metadata": {},
     "output_type": "execute_result"
    }
   ],
   "source": [
    "fig = go.Figure(data=[go.Table(\n",
    "    header=dict(values=['<b>学校名称</b>', '<b>总人数</b>', '<b>男生</b>', '<b>女生</b>', '<b>班级数</b>'],\n",
    "                line_color='darkslategray',\n",
    "                fill_color='lightskyblue',\n",
    "                font=dict(color='white', size=12),\n",
    "                height=30,\n",
    "                align='center'),\n",
    "    cells=dict(values=[['A学校', 'B学校', 'C学校'], # 1st column\n",
    "                       ['100人', '90人', '80人'],  # 2nd column\n",
    "                       ['60人', '30人', '70人'],   # 3rd column\n",
    "                       ['40人', '60人', '10人'],   # 4th column\n",
    "                       [10, 15, 6],               # 5th column\n",
    "                      ],\n",
    "               line_color='darkslategray',\n",
    "               fill_color='lightcyan',\n",
    "               font_size=12,\n",
    "               height=30,\n",
    "               align='left'))\n",
    "])\n",
    "fig.update_layout(width=700, height=310)\n",
    "img_svg = fig.to_image(format=\"svg\", scale=1.2)\n",
    "SVG(img_svg)"
   ]
  },
  {
   "cell_type": "markdown",
   "metadata": {},
   "source": [
    "### 本校学生的整体能力水平"
   ]
  },
  {
   "cell_type": "code",
   "execution_count": 5,
   "metadata": {},
   "outputs": [
    {
     "data": {
      "image/svg+xml": [
       "<svg class=\"main-svg\" height=\"450\" viewBox=\"0 0 700 300\" width=\"1050\" xmlns=\"http://www.w3.org/2000/svg\" xmlns:xlink=\"http://www.w3.org/1999/xlink\"><rect height=\"300\" style=\"fill: rgb(255, 255, 255); fill-opacity: 1;\" width=\"700\" x=\"0\" y=\"0\"/><defs id=\"defs-413743\"><g class=\"clips\"/><g class=\"gradients\"/></defs><g class=\"bglayer\"/><g class=\"layer-below\"><g class=\"imagelayer\"/><g class=\"shapelayer\"/></g><g class=\"cartesianlayer\"/><g class=\"polarlayer\"/><g class=\"ternarylayer\"/><g class=\"geolayer\"/><g class=\"funnelarealayer\"/><g class=\"pielayer\"/><g class=\"sunburstlayer\"/><g class=\"glimages\"/><g class=\"table\" height=\"300\" overflow=\"visible\" style=\"box-sizing: content-box; position: absolute; left: 0px; overflow: visible; shape-rendering: crispEdges; pointer-events: all;\" transform=\"translate(0,0)\" width=\"700\"><g class=\"table-control-view\" clip-path=\"url('#clip413743_scrollAreaBottomClip_d41cb6true')\" style=\"box-sizing: content-box;\" transform=\"translate(80 100)\"><rect class=\"scroll-background\" fill=\"none\" height=\"120\" width=\"540\"/><g class=\"y-column\" clip-path=\"url('#clip413743_columnBoundaryClippath_d41cb6true_0')\" transform=\"translate(0 0)\"><g class=\"column-block\" id=\"cells1\" style=\"cursor: default;\" transform=\"translate(0 0)\"><g class=\"column-cells\"><g class=\"column-cell\" transform=\"translate(0 46.59375)\"><rect class=\"cell-rect\" height=\"30\" stroke-width=\"1\" style=\"stroke: rgb(255, 255, 255); stroke-opacity: 1; fill: rgb(235, 240, 248); fill-opacity: 1;\" width=\"77.14285714285714\"/><g class=\"cell-text-holder\" style=\"shape-rendering: geometricPrecision;\" text-anchor=\"middle\" transform=\"translate(38.57142857142857 8)\"><text class=\"cell-text\" dy=\"0.75em\" style=\"cursor: auto; font-family: 'Open Sans', verdana, arial, sans-serif; font-size: 12px; fill: rgb(42, 63, 95); fill-opacity: 1;\">B</text></g></g></g></g><g class=\"column-block\" id=\"cells2\" style=\"cursor: default;\" transform=\"translate(0 0)\"><g class=\"column-cells\"/></g><g class=\"column-block\" id=\"header\" style=\"cursor: ew-resize;\"><g class=\"column-cells\"><g class=\"column-cell\" transform=\"translate(0 0)\"><rect class=\"cell-rect\" height=\"46.59375\" stroke-width=\"1\" style=\"stroke: rgb(255, 255, 255); stroke-opacity: 1; fill: rgb(200, 212, 227); fill-opacity: 1;\" width=\"77.14285714285714\"/><g class=\"cell-text-holder\" style=\"shape-rendering: geometricPrecision;\" transform=\"translate(26.57142857142857 20)\"><text class=\"cell-text\" dy=\"0\" style=\"cursor: auto; font-family: 'Open Sans', verdana, arial, sans-serif; font-size: 12px; fill: rgb(0, 0, 0); fill-opacity: 1; white-space: pre;\" x=\"0\" y=\"0\"><tspan class=\"line\" dy=\"0em\" x=\"0\" y=\"0\"><tspan style=\"font-weight:bold\">平均</tspan></tspan><tspan class=\"line\" dy=\"1.3em\" x=\"0\" y=\"0\"><tspan style=\"font-weight:bold\">等级</tspan></tspan></text></g></g></g></g><g class=\"column-boundary\"/><clipPath class=\"column-boundary-clippath\" id=\"clip413743_columnBoundaryClippath_d41cb6true_0\"><rect class=\"column-boundary-rect\" fill=\"none\" height=\"127\" width=\"79.14285714285714\" x=\"-1\" y=\"-1\"/></clipPath></g><g class=\"y-column\" clip-path=\"url('#clip413743_columnBoundaryClippath_d41cb6true_1')\" transform=\"translate(77.14285714285714 0)\"><g class=\"column-block\" id=\"cells1\" style=\"cursor: default;\" transform=\"translate(0 0)\"><g class=\"column-cells\"><g class=\"column-cell\" transform=\"translate(0 46.59375)\"><rect class=\"cell-rect\" height=\"30\" stroke-width=\"1\" style=\"stroke: rgb(255, 255, 255); stroke-opacity: 1; fill: rgb(235, 240, 248); fill-opacity: 1;\" width=\"77.14285714285714\"/><g class=\"cell-text-holder\" style=\"shape-rendering: geometricPrecision;\" text-anchor=\"middle\" transform=\"translate(38.57142857142857 8)\"><text class=\"cell-text\" dy=\"0.75em\" style=\"cursor: auto; font-family: 'Open Sans', verdana, arial, sans-serif; font-size: 12px; fill: rgb(42, 63, 95); fill-opacity: 1;\">综合</text></g></g></g></g><g class=\"column-block\" id=\"cells2\" style=\"cursor: default;\" transform=\"translate(0 0)\"><g class=\"column-cells\"/></g><g class=\"column-block\" id=\"header\" style=\"cursor: ew-resize;\"><g class=\"column-cells\"><g class=\"column-cell\" transform=\"translate(0 0)\"><rect class=\"cell-rect\" height=\"46.59375\" stroke-width=\"1\" style=\"stroke: rgb(255, 255, 255); stroke-opacity: 1; fill: rgb(200, 212, 227); fill-opacity: 1;\" width=\"77.14285714285714\"/><g class=\"cell-text-holder\" style=\"shape-rendering: geometricPrecision;\" transform=\"translate(26.57142857142857 20)\"><text class=\"cell-text\" dy=\"0\" style=\"cursor: auto; font-family: 'Open Sans', verdana, arial, sans-serif; font-size: 12px; fill: rgb(0, 0, 0); fill-opacity: 1; white-space: pre;\" x=\"0\" y=\"0\"><tspan class=\"line\" dy=\"0em\" x=\"0\" y=\"0\"><tspan style=\"font-weight:bold\">文理</tspan></tspan><tspan class=\"line\" dy=\"1.3em\" x=\"0\" y=\"0\"><tspan style=\"font-weight:bold\">倾向</tspan></tspan></text></g></g></g></g><g class=\"column-boundary\"/><clipPath class=\"column-boundary-clippath\" id=\"clip413743_columnBoundaryClippath_d41cb6true_1\"><rect class=\"column-boundary-rect\" fill=\"none\" height=\"127\" width=\"79.14285714285714\" x=\"-1\" y=\"-1\"/></clipPath></g><g class=\"y-column\" clip-path=\"url('#clip413743_columnBoundaryClippath_d41cb6true_2')\" transform=\"translate(154.28571428571428 0)\"><g class=\"column-block\" id=\"cells1\" style=\"cursor: default;\" transform=\"translate(0 0)\"><g class=\"column-cells\"><g class=\"column-cell\" transform=\"translate(0 46.59375)\"><rect class=\"cell-rect\" height=\"30\" stroke-width=\"1\" style=\"stroke: rgb(255, 255, 255); stroke-opacity: 1; fill: rgb(235, 240, 248); fill-opacity: 1;\" width=\"77.14285714285714\"/><g class=\"cell-text-holder\" style=\"shape-rendering: geometricPrecision;\" text-anchor=\"middle\" transform=\"translate(38.57142857142857 8)\"><text class=\"cell-text\" dy=\"0.75em\" style=\"cursor: auto; font-family: 'Open Sans', verdana, arial, sans-serif; font-size: 12px; fill: rgb(42, 63, 95); fill-opacity: 1;\">较为均衡</text></g></g></g></g><g class=\"column-block\" id=\"cells2\" style=\"cursor: default;\" transform=\"translate(0 0)\"><g class=\"column-cells\"/></g><g class=\"column-block\" id=\"header\" style=\"cursor: ew-resize;\"><g class=\"column-cells\"><g class=\"column-cell\" transform=\"translate(0 0)\"><rect class=\"cell-rect\" height=\"46.59375\" stroke-width=\"1\" style=\"stroke: rgb(255, 255, 255); stroke-opacity: 1; fill: rgb(200, 212, 227); fill-opacity: 1;\" width=\"77.14285714285714\"/><g class=\"cell-text-holder\" style=\"shape-rendering: geometricPrecision;\" transform=\"translate(14.57142857142857 20)\"><text class=\"cell-text\" dy=\"0\" style=\"cursor: auto; font-family: 'Open Sans', verdana, arial, sans-serif; font-size: 12px; fill: rgb(0, 0, 0); fill-opacity: 1; white-space: pre;\" x=\"0\" y=\"0\"><tspan class=\"line\" dy=\"0em\" x=\"0\" y=\"0\"><tspan style=\"font-weight:bold\">学科发展</tspan></tspan><tspan class=\"line\" dy=\"1.3em\" x=\"0\" y=\"0\"><tspan style=\"font-weight:bold\">均衡程度</tspan></tspan></text></g></g></g></g><g class=\"column-boundary\"/><clipPath class=\"column-boundary-clippath\" id=\"clip413743_columnBoundaryClippath_d41cb6true_2\"><rect class=\"column-boundary-rect\" fill=\"none\" height=\"127\" width=\"79.14285714285714\" x=\"-1\" y=\"-1\"/></clipPath></g><g class=\"y-column\" clip-path=\"url('#clip413743_columnBoundaryClippath_d41cb6true_3')\" transform=\"translate(231.42857142857142 0)\"><g class=\"column-block\" id=\"cells1\" style=\"cursor: default;\" transform=\"translate(0 0)\"><g class=\"column-cells\"><g class=\"column-cell\" transform=\"translate(0 46.59375)\"><rect class=\"cell-rect\" height=\"30\" stroke-width=\"1\" style=\"stroke: rgb(255, 255, 255); stroke-opacity: 1; fill: rgb(235, 240, 248); fill-opacity: 1;\" width=\"77.14285714285714\"/><g class=\"cell-text-holder\" style=\"shape-rendering: geometricPrecision;\" text-anchor=\"middle\" transform=\"translate(38.57142857142857 8)\"><text class=\"cell-text\" dy=\"0.75em\" style=\"cursor: auto; font-family: 'Open Sans', verdana, arial, sans-serif; font-size: 12px; fill: rgb(42, 63, 95); fill-opacity: 1;\">54人</text></g></g></g></g><g class=\"column-block\" id=\"cells2\" style=\"cursor: default;\" transform=\"translate(0 0)\"><g class=\"column-cells\"/></g><g class=\"column-block\" id=\"header\" style=\"cursor: ew-resize;\"><g class=\"column-cells\"><g class=\"column-cell\" transform=\"translate(0 0)\"><rect class=\"cell-rect\" height=\"46.59375\" stroke-width=\"1\" style=\"stroke: rgb(255, 255, 255); stroke-opacity: 1; fill: rgb(200, 212, 227); fill-opacity: 1;\" width=\"77.14285714285714\"/><g class=\"cell-text-holder\" style=\"shape-rendering: geometricPrecision;\" transform=\"translate(14.57142857142857 20)\"><text class=\"cell-text\" dy=\"0\" style=\"cursor: auto; font-family: 'Open Sans', verdana, arial, sans-serif; font-size: 12px; fill: rgb(0, 0, 0); fill-opacity: 1; white-space: pre;\" x=\"0\" y=\"0\"><tspan class=\"line\" dy=\"0em\" x=\"0\" y=\"0\"><tspan style=\"font-weight:bold\">A等级</tspan></tspan><tspan class=\"line\" dy=\"1.3em\" x=\"0\" y=\"0\"><tspan style=\"font-weight:bold\">学生人数</tspan></tspan></text></g></g></g></g><g class=\"column-boundary\"/><clipPath class=\"column-boundary-clippath\" id=\"clip413743_columnBoundaryClippath_d41cb6true_3\"><rect class=\"column-boundary-rect\" fill=\"none\" height=\"127\" width=\"79.14285714285714\" x=\"-1\" y=\"-1\"/></clipPath></g><g class=\"y-column\" clip-path=\"url('#clip413743_columnBoundaryClippath_d41cb6true_4')\" transform=\"translate(308.57142857142856 0)\"><g class=\"column-block\" id=\"cells1\" style=\"cursor: default;\" transform=\"translate(0 0)\"><g class=\"column-cells\"><g class=\"column-cell\" transform=\"translate(0 46.59375)\"><rect class=\"cell-rect\" height=\"30\" stroke-width=\"1\" style=\"stroke: rgb(255, 255, 255); stroke-opacity: 1; fill: rgb(235, 240, 248); fill-opacity: 1;\" width=\"77.14285714285714\"/><g class=\"cell-text-holder\" style=\"shape-rendering: geometricPrecision;\" text-anchor=\"middle\" transform=\"translate(38.57142857142857 8)\"><text class=\"cell-text\" dy=\"0.75em\" style=\"cursor: auto; font-family: 'Open Sans', verdana, arial, sans-serif; font-size: 12px; fill: rgb(42, 63, 95); fill-opacity: 1;\">0人</text></g></g></g></g><g class=\"column-block\" id=\"cells2\" style=\"cursor: default;\" transform=\"translate(0 0)\"><g class=\"column-cells\"/></g><g class=\"column-block\" id=\"header\" style=\"cursor: ew-resize;\"><g class=\"column-cells\"><g class=\"column-cell\" transform=\"translate(0 0)\"><rect class=\"cell-rect\" height=\"46.59375\" stroke-width=\"1\" style=\"stroke: rgb(255, 255, 255); stroke-opacity: 1; fill: rgb(200, 212, 227); fill-opacity: 1;\" width=\"77.14285714285714\"/><g class=\"cell-text-holder\" style=\"shape-rendering: geometricPrecision;\" transform=\"translate(14.57142857142857 20)\"><text class=\"cell-text\" dy=\"0\" style=\"cursor: auto; font-family: 'Open Sans', verdana, arial, sans-serif; font-size: 12px; fill: rgb(0, 0, 0); fill-opacity: 1; white-space: pre;\" x=\"0\" y=\"0\"><tspan class=\"line\" dy=\"0em\" x=\"0\" y=\"0\"><tspan style=\"font-weight:bold\">B等级</tspan></tspan><tspan class=\"line\" dy=\"1.3em\" x=\"0\" y=\"0\"><tspan style=\"font-weight:bold\">学生人数</tspan></tspan></text></g></g></g></g><g class=\"column-boundary\"/><clipPath class=\"column-boundary-clippath\" id=\"clip413743_columnBoundaryClippath_d41cb6true_4\"><rect class=\"column-boundary-rect\" fill=\"none\" height=\"127\" width=\"79.14285714285714\" x=\"-1\" y=\"-1\"/></clipPath></g><g class=\"y-column\" clip-path=\"url('#clip413743_columnBoundaryClippath_d41cb6true_5')\" transform=\"translate(385.71428571428567 0)\"><g class=\"column-block\" id=\"cells1\" style=\"cursor: default;\" transform=\"translate(0 0)\"><g class=\"column-cells\"><g class=\"column-cell\" transform=\"translate(0 46.59375)\"><rect class=\"cell-rect\" height=\"30\" stroke-width=\"1\" style=\"stroke: rgb(255, 255, 255); stroke-opacity: 1; fill: rgb(235, 240, 248); fill-opacity: 1;\" width=\"77.14285714285714\"/><g class=\"cell-text-holder\" style=\"shape-rendering: geometricPrecision;\" text-anchor=\"middle\" transform=\"translate(38.57142857142857 8)\"><text class=\"cell-text\" dy=\"0.75em\" style=\"cursor: auto; font-family: 'Open Sans', verdana, arial, sans-serif; font-size: 12px; fill: rgb(42, 63, 95); fill-opacity: 1;\">9/61</text></g></g></g></g><g class=\"column-block\" id=\"cells2\" style=\"cursor: default;\" transform=\"translate(0 0)\"><g class=\"column-cells\"/></g><g class=\"column-block\" id=\"header\" style=\"cursor: ew-resize;\"><g class=\"column-cells\"><g class=\"column-cell\" transform=\"translate(0 0)\"><rect class=\"cell-rect\" height=\"46.59375\" stroke-width=\"1\" style=\"stroke: rgb(255, 255, 255); stroke-opacity: 1; fill: rgb(200, 212, 227); fill-opacity: 1;\" width=\"77.14285714285714\"/><g class=\"cell-text-holder\" style=\"shape-rendering: geometricPrecision;\" transform=\"translate(26.57142857142857 20)\"><text class=\"cell-text\" dy=\"0\" style=\"cursor: auto; font-family: 'Open Sans', verdana, arial, sans-serif; font-size: 12px; fill: rgb(0, 0, 0); fill-opacity: 1; white-space: pre;\" x=\"0\" y=\"0\"><tspan class=\"line\" dy=\"0em\" x=\"0\" y=\"0\"><tspan style=\"font-weight:bold\">全市</tspan></tspan><tspan class=\"line\" dy=\"1.3em\" x=\"0\" y=\"0\"><tspan style=\"font-weight:bold\">排名</tspan></tspan></text></g></g></g></g><g class=\"column-boundary\"/><clipPath class=\"column-boundary-clippath\" id=\"clip413743_columnBoundaryClippath_d41cb6true_5\"><rect class=\"column-boundary-rect\" fill=\"none\" height=\"127\" width=\"79.14285714285714\" x=\"-1\" y=\"-1\"/></clipPath></g><g class=\"y-column\" clip-path=\"url('#clip413743_columnBoundaryClippath_d41cb6true_6')\" transform=\"translate(462.8571428571428 0)\"><g class=\"column-block\" id=\"cells1\" style=\"cursor: default;\" transform=\"translate(0 0)\"><g class=\"column-cells\"><g class=\"column-cell\" transform=\"translate(0 46.59375)\"><rect class=\"cell-rect\" height=\"30\" stroke-width=\"1\" style=\"stroke: rgb(255, 255, 255); stroke-opacity: 1; fill: rgb(235, 240, 248); fill-opacity: 1;\" width=\"77.14285714285714\"/><g class=\"cell-text-holder\" style=\"shape-rendering: geometricPrecision;\" text-anchor=\"middle\" transform=\"translate(38.57142857142857 8)\"><text class=\"cell-text\" dy=\"0.75em\" style=\"cursor: auto; font-family: 'Open Sans', verdana, arial, sans-serif; font-size: 12px; fill: rgb(42, 63, 95); fill-opacity: 1;\">22/287</text></g></g></g></g><g class=\"column-block\" id=\"cells2\" style=\"cursor: default;\" transform=\"translate(0 0)\"><g class=\"column-cells\"/></g><g class=\"column-block\" id=\"header\" style=\"cursor: ew-resize;\"><g class=\"column-cells\"><g class=\"column-cell\" transform=\"translate(0 0)\"><rect class=\"cell-rect\" height=\"46.59375\" stroke-width=\"1\" style=\"stroke: rgb(255, 255, 255); stroke-opacity: 1; fill: rgb(200, 212, 227); fill-opacity: 1;\" width=\"77.14285714285714\"/><g class=\"cell-text-holder\" style=\"shape-rendering: geometricPrecision;\" transform=\"translate(26.57142857142857 20)\"><text class=\"cell-text\" dy=\"0\" style=\"cursor: auto; font-family: 'Open Sans', verdana, arial, sans-serif; font-size: 12px; fill: rgb(0, 0, 0); fill-opacity: 1; white-space: pre;\" x=\"0\" y=\"0\"><tspan class=\"line\" dy=\"0em\" x=\"0\" y=\"0\"><tspan style=\"font-weight:bold\">全省</tspan></tspan><tspan class=\"line\" dy=\"1.3em\" x=\"0\" y=\"0\"><tspan style=\"font-weight:bold\">排名</tspan></tspan></text></g></g></g></g><g class=\"column-boundary\"/><clipPath class=\"column-boundary-clippath\" id=\"clip413743_columnBoundaryClippath_d41cb6true_6\"><rect class=\"column-boundary-rect\" fill=\"none\" height=\"127\" width=\"79.14285714285714\" x=\"-1\" y=\"-1\"/></clipPath></g><g class=\"scrollbar-kit\" style=\"shape-rendering: geometricPrecision;\" transform=\"translate(549 46.59375)\"><g class=\"scrollbar\"><g class=\"scrollbar-slider\" transform=\"translate(0 0)\"/></g></g><clipPath class=\"scroll-area-clip\" id=\"clip413743_scrollAreaBottomClip_d41cb6true\"><rect class=\"scroll-area-clip-rect\" fill=\"none\" height=\"125\" width=\"630\" x=\"-45\" y=\"-5\"/></clipPath></g></g><defs id=\"topdefs-413743\"><g class=\"clips\"/></defs><g class=\"layer-above\"><g class=\"imagelayer\"/><g class=\"shapelayer\"/></g><g class=\"infolayer\"><g class=\"g-gtitle\"/></g></svg>"
      ],
      "text/plain": [
       "<IPython.core.display.SVG object>"
      ]
     },
     "execution_count": 5,
     "metadata": {},
     "output_type": "execute_result"
    }
   ],
   "source": [
    "fig = go.Figure(data=[go.Table(\n",
    "    header=dict(values=['<b>平均<br>等级</b>',\n",
    "                        '<b>文理<br>倾向</b>',\n",
    "                        '<b>学科发展<br>均衡程度</b>',\n",
    "                        '<b>A等级<br>学生人数</b>',\n",
    "                        '<b>B等级<br>学生人数</b>',\n",
    "                        '<b>全市<br>排名</b>',\n",
    "                        '<b>全省<br>排名</b>',\n",
    "                       ],\n",
    "                font=dict(color='black', size=12),\n",
    "                height=30,\n",
    "                align='center'),\n",
    "    cells=dict(values=[['B'],\n",
    "                       ['综合'],\n",
    "                       ['较为均衡'],\n",
    "                       ['54人'],\n",
    "                       ['0人'],\n",
    "                       ['9/61'],\n",
    "                       ['22/287'],\n",
    "                      ],\n",
    "               font_size=12,\n",
    "               height=30,\n",
    "               align='center'))\n",
    "])\n",
    "fig.update_layout(width=700, height=300)\n",
    "img_svg = fig.to_image(format=\"svg\", scale=1.5)\n",
    "SVG(img_svg)"
   ]
  },
  {
   "cell_type": "code",
   "execution_count": null,
   "metadata": {},
   "outputs": [],
   "source": []
  }
 ],
 "metadata": {
  "hide_input": false,
  "kernelspec": {
   "display_name": "Python 3",
   "language": "python",
   "name": "python3"
  },
  "language_info": {
   "codemirror_mode": {
    "name": "ipython",
    "version": 3
   },
   "file_extension": ".py",
   "mimetype": "text/x-python",
   "name": "python",
   "nbconvert_exporter": "python",
   "pygments_lexer": "ipython3",
   "version": "3.7.1"
  },
  "toc": {
   "base_numbering": 1,
   "nav_menu": {},
   "number_sections": true,
   "sideBar": true,
   "skip_h1_title": true,
   "title_cell": "目录",
   "title_sidebar": "Contents",
   "toc_cell": false,
   "toc_position": {},
   "toc_section_display": true,
   "toc_window_display": true
  },
  "varInspector": {
   "cols": {
    "lenName": 16,
    "lenType": 16,
    "lenVar": 40
   },
   "kernels_config": {
    "python": {
     "delete_cmd_postfix": "",
     "delete_cmd_prefix": "del ",
     "library": "var_list.py",
     "varRefreshCmd": "print(var_dic_list())"
    },
    "r": {
     "delete_cmd_postfix": ") ",
     "delete_cmd_prefix": "rm(",
     "library": "var_list.r",
     "varRefreshCmd": "cat(var_dic_list()) "
    }
   },
   "types_to_exclude": [
    "module",
    "function",
    "builtin_function_or_method",
    "instance",
    "_Feature"
   ],
   "window_display": false
  }
 },
 "nbformat": 4,
 "nbformat_minor": 2
}
